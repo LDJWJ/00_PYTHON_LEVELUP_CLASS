{
  "nbformat": 4,
  "nbformat_minor": 0,
  "metadata": {
    "colab": {
      "name": "1_2B_PythonBasic.ipynb",
      "provenance": [],
      "authorship_tag": "ABX9TyMKwDcSYwzA5HmtcfwDdfHo",
      "include_colab_link": true
    },
    "kernelspec": {
      "name": "python3",
      "display_name": "Python 3"
    }
  },
  "cells": [
    {
      "cell_type": "markdown",
      "metadata": {
        "id": "view-in-github",
        "colab_type": "text"
      },
      "source": [
        "<a href=\"https://colab.research.google.com/github/LDJWJ/00_PYTHON_LEVELUP_CLASS/blob/master/1_2B_PythonBasic.ipynb\" target=\"_parent\"><img src=\"https://colab.research.google.com/assets/colab-badge.svg\" alt=\"Open In Colab\"/></a>"
      ]
    },
    {
      "cell_type": "code",
      "metadata": {
        "id": "p7KI-9xmIhJy",
        "colab_type": "code",
        "colab": {
          "base_uri": "https://localhost:8080/",
          "height": 34
        },
        "outputId": "2730886e-5018-4ea8-9986-67259f3e5f49"
      },
      "source": [
        "print(\"반갑다\")"
      ],
      "execution_count": 1,
      "outputs": [
        {
          "output_type": "stream",
          "text": [
            "반갑다\n"
          ],
          "name": "stdout"
        }
      ]
    },
    {
      "cell_type": "code",
      "metadata": {
        "id": "ZNechX3sI3-z",
        "colab_type": "code",
        "colab": {
          "base_uri": "https://localhost:8080/",
          "height": 52
        },
        "outputId": "55d71cdb-cf51-419f-b879-7f4c377896dc"
      },
      "source": [
        "print(\"Hello\", end='\\n')\n",
        "print(\"Hello\", end='')\n",
        "print(\"Hello\")"
      ],
      "execution_count": 2,
      "outputs": [
        {
          "output_type": "stream",
          "text": [
            "Hello\n",
            "HelloHello\n"
          ],
          "name": "stdout"
        }
      ]
    },
    {
      "cell_type": "markdown",
      "metadata": {
        "id": "i1H9Wg1zI4yp",
        "colab_type": "text"
      },
      "source": [
        "### 1-2 변수 사용"
      ]
    },
    {
      "cell_type": "code",
      "metadata": {
        "id": "vqyurqxNI6u2",
        "colab_type": "code",
        "colab": {
          "base_uri": "https://localhost:8080/",
          "height": 34
        },
        "outputId": "245f9b0a-da62-48ce-f337-369d7b49a37c"
      },
      "source": [
        "var1 = \"Hello\"   # 문자형 변수\n",
        "var2 = 'Hello'   # 문자형 변수\n",
        "print(var1, var2)\n",
        "# 1var 은 안된다."
      ],
      "execution_count": 5,
      "outputs": [
        {
          "output_type": "stream",
          "text": [
            "Hello Hello\n"
          ],
          "name": "stdout"
        }
      ]
    },
    {
      "cell_type": "code",
      "metadata": {
        "id": "9HrqsTPeI-cG",
        "colab_type": "code",
        "colab": {
          "base_uri": "https://localhost:8080/",
          "height": 34
        },
        "outputId": "dee7d371-ff00-4b91-b524-bbfac3fd2e61"
      },
      "source": [
        "print(var)"
      ],
      "execution_count": 6,
      "outputs": [
        {
          "output_type": "stream",
          "text": [
            "1\n"
          ],
          "name": "stdout"
        }
      ]
    },
    {
      "cell_type": "code",
      "metadata": {
        "id": "7mxId3ogI_cT",
        "colab_type": "code",
        "colab": {}
      },
      "source": [
        "# 문자열 여러줄 입력\n",
        "str1 = '''\n",
        "line1\n",
        "line2\n",
        "line3\n",
        "'''"
      ],
      "execution_count": 0,
      "outputs": []
    },
    {
      "cell_type": "code",
      "metadata": {
        "id": "8AFXELkfJMB0",
        "colab_type": "code",
        "colab": {
          "base_uri": "https://localhost:8080/",
          "height": 104
        },
        "outputId": "0a4cbd06-9fb8-4c9c-f51c-95ad1a7b6474"
      },
      "source": [
        "print(str1)"
      ],
      "execution_count": 8,
      "outputs": [
        {
          "output_type": "stream",
          "text": [
            "\n",
            "line1\n",
            "line2\n",
            "line3\n",
            "\n"
          ],
          "name": "stdout"
        }
      ]
    },
    {
      "cell_type": "code",
      "metadata": {
        "id": "6_RsAnwzJNbf",
        "colab_type": "code",
        "colab": {
          "base_uri": "https://localhost:8080/",
          "height": 52
        },
        "outputId": "ebaaecfa-aac4-42e5-f8e2-4683720eb099"
      },
      "source": [
        "### 문자열 입력 후, 내용 출력하기\n",
        "name = input(\"당신의 이름은\")\n",
        "print(name)"
      ],
      "execution_count": 9,
      "outputs": [
        {
          "output_type": "stream",
          "text": [
            "당신의 이름은test\n",
            "test\n"
          ],
          "name": "stdout"
        }
      ]
    },
    {
      "cell_type": "code",
      "metadata": {
        "id": "q7RY-0djJXAL",
        "colab_type": "code",
        "colab": {
          "base_uri": "https://localhost:8080/",
          "height": 69
        },
        "outputId": "16349615-dc5e-4b1d-d2ea-1ae60448eb6e"
      },
      "source": [
        "### 나이는 정수형. 문자열 입력 후, 내용 출력\n",
        "age = int(input(\"나이는:\"))\n",
        "print(age)\n",
        "print(type(age))"
      ],
      "execution_count": 10,
      "outputs": [
        {
          "output_type": "stream",
          "text": [
            "나이는:55\n",
            "55\n",
            "<class 'int'>\n"
          ],
          "name": "stdout"
        }
      ]
    },
    {
      "cell_type": "markdown",
      "metadata": {
        "id": "lKFX7Hu9JgCW",
        "colab_type": "text"
      },
      "source": [
        "### 연산자\n",
        "* 기본 연산 +, -, /, *, %(나머지), //(몫)"
      ]
    },
    {
      "cell_type": "code",
      "metadata": {
        "id": "0FDWseW_JmHt",
        "colab_type": "code",
        "colab": {
          "base_uri": "https://localhost:8080/",
          "height": 104
        },
        "outputId": "bac66fce-b31d-4e7c-a0ed-d52d3d0ce3ef"
      },
      "source": [
        "print(9+9) # 곱하기\n",
        "print(30/5) # 나누기\n",
        "print(2**10) # 제곱 연산\n",
        "print(15 % 4) # 나머지\n",
        "print(15//2) # 몫"
      ],
      "execution_count": 12,
      "outputs": [
        {
          "output_type": "stream",
          "text": [
            "18\n",
            "6.0\n",
            "1024\n",
            "3\n",
            "7\n"
          ],
          "name": "stdout"
        }
      ]
    },
    {
      "cell_type": "code",
      "metadata": {
        "id": "SGG2RWauJpW8",
        "colab_type": "code",
        "colab": {
          "base_uri": "https://localhost:8080/",
          "height": 34
        },
        "outputId": "19eb0cf6-70d7-407d-e32d-631948d09f2b"
      },
      "source": [
        "1 == 1 # True (1이상)\n",
        "1 != 1 # False (0)\n",
        "1 >= 1\n",
        "1 <= 1\n",
        "# 1 => 1 # 에러"
      ],
      "execution_count": 13,
      "outputs": [
        {
          "output_type": "execute_result",
          "data": {
            "text/plain": [
              "True"
            ]
          },
          "metadata": {
            "tags": []
          },
          "execution_count": 13
        }
      ]
    },
    {
      "cell_type": "code",
      "metadata": {
        "id": "KnIQ7KnNJq0N",
        "colab_type": "code",
        "colab": {
          "base_uri": "https://localhost:8080/",
          "height": 34
        },
        "outputId": "6d25987e-6bb4-419f-fa6b-541c08f3fe57"
      },
      "source": [
        "(1 == 1) and (1 > 0)"
      ],
      "execution_count": 15,
      "outputs": [
        {
          "output_type": "execute_result",
          "data": {
            "text/plain": [
              "True"
            ]
          },
          "metadata": {
            "tags": []
          },
          "execution_count": 15
        }
      ]
    },
    {
      "cell_type": "code",
      "metadata": {
        "id": "rf0eMaVnJsh0",
        "colab_type": "code",
        "colab": {
          "base_uri": "https://localhost:8080/",
          "height": 34
        },
        "outputId": "3b428952-b562-4bb6-b9a9-e7cd3c0b3456"
      },
      "source": [
        "(1 == 1) & (1 > 0)"
      ],
      "execution_count": 16,
      "outputs": [
        {
          "output_type": "execute_result",
          "data": {
            "text/plain": [
              "True"
            ]
          },
          "metadata": {
            "tags": []
          },
          "execution_count": 16
        }
      ]
    },
    {
      "cell_type": "code",
      "metadata": {
        "id": "1-szbF4nJvHp",
        "colab_type": "code",
        "colab": {
          "base_uri": "https://localhost:8080/",
          "height": 52
        },
        "outputId": "476c6adb-2500-4a75-ac0a-009d1ec9747e"
      },
      "source": [
        "print((1 == 1) or (1 > 0) )\n",
        "print((1 == 1) | (1 > 0) )"
      ],
      "execution_count": 17,
      "outputs": [
        {
          "output_type": "stream",
          "text": [
            "True\n",
            "True\n"
          ],
          "name": "stdout"
        }
      ]
    },
    {
      "cell_type": "code",
      "metadata": {
        "id": "5yyOFpLyJwix",
        "colab_type": "code",
        "colab": {
          "base_uri": "https://localhost:8080/",
          "height": 52
        },
        "outputId": "15ea83c5-cb3b-4795-b536-4c946c7d902b"
      },
      "source": [
        "print( not 1 ) # False\n",
        "print( not False) # True"
      ],
      "execution_count": 18,
      "outputs": [
        {
          "output_type": "stream",
          "text": [
            "False\n",
            "True\n"
          ],
          "name": "stdout"
        }
      ]
    },
    {
      "cell_type": "code",
      "metadata": {
        "id": "Ihjo2rCFJx3Z",
        "colab_type": "code",
        "colab": {
          "base_uri": "https://localhost:8080/",
          "height": 87
        },
        "outputId": "634d1318-8fe9-450d-a5ff-ea3ebcb60aea"
      },
      "source": [
        "a = 5\n",
        "b = 2\n",
        "plus = a + b\n",
        "mul = a * b\n",
        "div = a / b # 결과값 형변환 5/2 = 2.5\n",
        "remainder = a % b\n",
        "power = a ** b\n",
        "print(\"합은 %d 입니다.\" % a)\n",
        "print(\"%d 와 %d의 합은 %d 입니다.\" % (a, b, plus))\n",
        "print(\"{} 와 {}의 합은 {}입니다.\".format(a, b, plus))\n",
        "print(\"{} 와 {}의 나눈 값은 {:.2f}입니다.\".format(a, b, div))"
      ],
      "execution_count": 19,
      "outputs": [
        {
          "output_type": "stream",
          "text": [
            "합은 5 입니다.\n",
            "5 와 2의 합은 7 입니다.\n",
            "5 와 2의 합은 7입니다.\n",
            "5 와 2의 나눈 값은 2.50입니다.\n"
          ],
          "name": "stdout"
        }
      ]
    },
    {
      "cell_type": "code",
      "metadata": {
        "id": "CwAPb5nkJzVz",
        "colab_type": "code",
        "colab": {
          "base_uri": "https://localhost:8080/",
          "height": 34
        },
        "outputId": "6dea08f3-8302-4e92-f865-fb02b9a541af"
      },
      "source": [
        "print(\"{2} 와 {1}의 합은 {0}입니다.\".format(2, 5, 7))"
      ],
      "execution_count": 20,
      "outputs": [
        {
          "output_type": "stream",
          "text": [
            "7 와 5의 합은 2입니다.\n"
          ],
          "name": "stdout"
        }
      ]
    },
    {
      "cell_type": "code",
      "metadata": {
        "id": "Sc3KOc2RJ03I",
        "colab_type": "code",
        "colab": {
          "base_uri": "https://localhost:8080/",
          "height": 34
        },
        "outputId": "6431483a-451d-4f86-ebaa-d39e46d9552f"
      },
      "source": [
        "print(\"{0} 와 {1}의 나눈 값은 {2}입니다.\".format(a, b, div))"
      ],
      "execution_count": 21,
      "outputs": [
        {
          "output_type": "stream",
          "text": [
            "5 와 2의 나눈 값은 2.5입니다.\n"
          ],
          "name": "stdout"
        }
      ]
    },
    {
      "cell_type": "markdown",
      "metadata": {
        "id": "5MQDun2iJ17_",
        "colab_type": "text"
      },
      "source": [
        "### 1-5 if 문"
      ]
    },
    {
      "cell_type": "code",
      "metadata": {
        "id": "EXQr6zmyJ3pl",
        "colab_type": "code",
        "colab": {
          "base_uri": "https://localhost:8080/",
          "height": 34
        },
        "outputId": "b16e1078-8f2e-435b-b6bb-12af0641f549"
      },
      "source": [
        "people = 10\n",
        "apple = 35\n",
        "if people >= 10:\n",
        "  print(\"사람이 10명이상입니다.\")"
      ],
      "execution_count": 23,
      "outputs": [
        {
          "output_type": "stream",
          "text": [
            "사람이 10명이상입니다.\n"
          ],
          "name": "stdout"
        }
      ]
    },
    {
      "cell_type": "code",
      "metadata": {
        "id": "rXqRy6pnJ6Gj",
        "colab_type": "code",
        "colab": {
          "base_uri": "https://localhost:8080/",
          "height": 133
        },
        "outputId": "db26b43d-18e5-4aab-8ec2-9e93108b91d1"
      },
      "source": [
        "if people >= 10:\n",
        "  print(\"사람이 10명이상입니다.\") # indent라고 한다. 동일하게 해 준다.\n",
        "   print(\"사람이 10명이상입니다.\")\n",
        "  print(\"사람이 10명이상입니다.\")"
      ],
      "execution_count": 24,
      "outputs": [
        {
          "output_type": "error",
          "ename": "IndentationError",
          "evalue": "ignored",
          "traceback": [
            "\u001b[0;36m  File \u001b[0;32m\"<ipython-input-24-ccbbc3e89b9d>\"\u001b[0;36m, line \u001b[0;32m3\u001b[0m\n\u001b[0;31m    print(\"사람이 10명이상입니다.\")\u001b[0m\n\u001b[0m    ^\u001b[0m\n\u001b[0;31mIndentationError\u001b[0m\u001b[0;31m:\u001b[0m unexpected indent\n"
          ]
        }
      ]
    },
    {
      "cell_type": "code",
      "metadata": {
        "id": "Vf6kB8AyJ9lB",
        "colab_type": "code",
        "colab": {
          "base_uri": "https://localhost:8080/",
          "height": 69
        },
        "outputId": "7bf5a481-9570-4172-8bc9-5f76c3aaee6d"
      },
      "source": [
        "if people >= 10:\n",
        "  print(\"사람이 10명이상입니다.\") # indent라고 한다. 동일하게 해 준다.\n",
        "  print(\"사람이 10명이상입니다.\")\n",
        "  print(\"사람이 10명이상입니다.\")"
      ],
      "execution_count": 25,
      "outputs": [
        {
          "output_type": "stream",
          "text": [
            "사람이 10명이상입니다.\n",
            "사람이 10명이상입니다.\n",
            "사람이 10명이상입니다.\n"
          ],
          "name": "stdout"
        }
      ]
    },
    {
      "cell_type": "code",
      "metadata": {
        "id": "ITJKTxVnKAfp",
        "colab_type": "code",
        "colab": {
          "base_uri": "https://localhost:8080/",
          "height": 133
        },
        "outputId": "21ad43f3-d861-4377-89e6-6353ee1c5a64"
      },
      "source": [
        "num = int( input(\"사람의 수는 :\") )\n",
        "if num >= 10:\n",
        "  print(\"사람이 10명이상입니다.\") # indent라고 한다. 동일하게 해 준다.\n",
        "  print(\"사람이 10명이상입니다.\")\n",
        "  print(\"사람이 10명이상입니다.\")\n",
        "  else:\n",
        "  print(\"사람이 10명 미만입니다\")"
      ],
      "execution_count": 26,
      "outputs": [
        {
          "output_type": "error",
          "ename": "SyntaxError",
          "evalue": "ignored",
          "traceback": [
            "\u001b[0;36m  File \u001b[0;32m\"<ipython-input-26-e178f479e82c>\"\u001b[0;36m, line \u001b[0;32m6\u001b[0m\n\u001b[0;31m    else:\u001b[0m\n\u001b[0m       ^\u001b[0m\n\u001b[0;31mSyntaxError\u001b[0m\u001b[0;31m:\u001b[0m invalid syntax\n"
          ]
        }
      ]
    },
    {
      "cell_type": "code",
      "metadata": {
        "id": "Re_1I57OKFNs",
        "colab_type": "code",
        "colab": {
          "base_uri": "https://localhost:8080/",
          "height": 52
        },
        "outputId": "7d134fb6-3e03-4fe1-bbe7-5d63036569b5"
      },
      "source": [
        "a = input()\n",
        "if a=='A':\n",
        "  print(\"학점 우수\")\n",
        "elif a=='B':\n",
        "  print(\"학점 보통\")\n",
        "else:\n",
        "  print(\"학점 이외\")"
      ],
      "execution_count": 27,
      "outputs": [
        {
          "output_type": "stream",
          "text": [
            "A\n",
            "학점 우수\n"
          ],
          "name": "stdout"
        }
      ]
    },
    {
      "cell_type": "markdown",
      "metadata": {
        "id": "-57DfZBNKH92",
        "colab_type": "text"
      },
      "source": [
        "## (실습)내용 추가 : C학점은 학점 노력 필요 추가해 보기"
      ]
    },
    {
      "cell_type": "code",
      "metadata": {
        "id": "mDRv5TI_KO9z",
        "colab_type": "code",
        "colab": {}
      },
      "source": [
        "c = 7\n",
        "def add(a,b):\n",
        "  result = a + b\n",
        "  c = result\n",
        "  print(\"{} + {} = {}\".format(a, b, result))"
      ],
      "execution_count": 0,
      "outputs": []
    },
    {
      "cell_type": "code",
      "metadata": {
        "id": "Cl_TLLOgKTU5",
        "colab_type": "code",
        "colab": {
          "base_uri": "https://localhost:8080/",
          "height": 34
        },
        "outputId": "5c8c5725-fbc3-4e28-c579-8322ed2a13bf"
      },
      "source": [
        "add(10,5)"
      ],
      "execution_count": 30,
      "outputs": [
        {
          "output_type": "stream",
          "text": [
            "10 + 5 = 15\n"
          ],
          "name": "stdout"
        }
      ]
    },
    {
      "cell_type": "code",
      "metadata": {
        "id": "3scbNlRMKVbE",
        "colab_type": "code",
        "colab": {}
      },
      "source": [
        "c = 7\n",
        "def minus(a,b):\n",
        "  result = a - b\n",
        "  c = result\n",
        "  return c"
      ],
      "execution_count": 0,
      "outputs": []
    },
    {
      "cell_type": "code",
      "metadata": {
        "id": "XO9o3u1BKYKd",
        "colab_type": "code",
        "colab": {
          "base_uri": "https://localhost:8080/",
          "height": 34
        },
        "outputId": "329d9699-918b-4c4a-bf21-b48cc5b41f56"
      },
      "source": [
        "minus(10,5)"
      ],
      "execution_count": 32,
      "outputs": [
        {
          "output_type": "execute_result",
          "data": {
            "text/plain": [
              "5"
            ]
          },
          "metadata": {
            "tags": []
          },
          "execution_count": 32
        }
      ]
    },
    {
      "cell_type": "markdown",
      "metadata": {
        "id": "xYgYmG0RKZgX",
        "colab_type": "text"
      },
      "source": [
        "### 1-6 자료형"
      ]
    },
    {
      "cell_type": "code",
      "metadata": {
        "id": "YBLbcKsTKazn",
        "colab_type": "code",
        "colab": {
          "base_uri": "https://localhost:8080/",
          "height": 34
        },
        "outputId": "a44538be-383f-4811-9b12-23193f8fc53c"
      },
      "source": [
        "string = \"Hello World!\"\n",
        "string[0]"
      ],
      "execution_count": 33,
      "outputs": [
        {
          "output_type": "execute_result",
          "data": {
            "text/plain": [
              "'H'"
            ]
          },
          "metadata": {
            "tags": []
          },
          "execution_count": 33
        }
      ]
    },
    {
      "cell_type": "code",
      "metadata": {
        "id": "Tpq_xqEcKco-",
        "colab_type": "code",
        "colab": {
          "base_uri": "https://localhost:8080/",
          "height": 34
        },
        "outputId": "df1285c7-c058-4b43-9094-902af1760177"
      },
      "source": [
        "# Hello 선택\n",
        "string[0:5]"
      ],
      "execution_count": 34,
      "outputs": [
        {
          "output_type": "execute_result",
          "data": {
            "text/plain": [
              "'Hello'"
            ]
          },
          "metadata": {
            "tags": []
          },
          "execution_count": 34
        }
      ]
    },
    {
      "cell_type": "code",
      "metadata": {
        "id": "3rUTVWxpKd0I",
        "colab_type": "code",
        "colab": {
          "base_uri": "https://localhost:8080/",
          "height": 34
        },
        "outputId": "fbfbfe30-bf1f-4720-bcde-bd6198198920"
      },
      "source": [
        "# llo 선택\n",
        "string[2:5]"
      ],
      "execution_count": 35,
      "outputs": [
        {
          "output_type": "execute_result",
          "data": {
            "text/plain": [
              "'llo'"
            ]
          },
          "metadata": {
            "tags": []
          },
          "execution_count": 35
        }
      ]
    },
    {
      "cell_type": "code",
      "metadata": {
        "id": "J4PYhwj9Kf-A",
        "colab_type": "code",
        "colab": {
          "base_uri": "https://localhost:8080/",
          "height": 34
        },
        "outputId": "14fab776-4b17-4093-aecf-bf5d53882677"
      },
      "source": [
        "# Hello 선택\n",
        "string[ :5]"
      ],
      "execution_count": 36,
      "outputs": [
        {
          "output_type": "execute_result",
          "data": {
            "text/plain": [
              "'Hello'"
            ]
          },
          "metadata": {
            "tags": []
          },
          "execution_count": 36
        }
      ]
    },
    {
      "cell_type": "code",
      "metadata": {
        "id": "ndByu9wNKhKr",
        "colab_type": "code",
        "colab": {
          "base_uri": "https://localhost:8080/",
          "height": 34
        },
        "outputId": "6c5ac91c-5264-410b-910a-70b9856e0e55"
      },
      "source": [
        "# Hello 선택\n",
        "string[ : ]"
      ],
      "execution_count": 37,
      "outputs": [
        {
          "output_type": "execute_result",
          "data": {
            "text/plain": [
              "'Hello World!'"
            ]
          },
          "metadata": {
            "tags": []
          },
          "execution_count": 37
        }
      ]
    },
    {
      "cell_type": "code",
      "metadata": {
        "id": "Wz1C-balKidI",
        "colab_type": "code",
        "colab": {
          "base_uri": "https://localhost:8080/",
          "height": 34
        },
        "outputId": "6eedfb16-3406-4297-a1d2-267364107ff1"
      },
      "source": [
        "# World!\n",
        "string[6: ]"
      ],
      "execution_count": 39,
      "outputs": [
        {
          "output_type": "execute_result",
          "data": {
            "text/plain": [
              "'World!'"
            ]
          },
          "metadata": {
            "tags": []
          },
          "execution_count": 39
        }
      ]
    },
    {
      "cell_type": "code",
      "metadata": {
        "id": "LFhlfuKkKjiP",
        "colab_type": "code",
        "colab": {}
      },
      "source": [
        "## 인덱싱(Indexing)\n",
        "## 슬라이싱(slicing)"
      ],
      "execution_count": 0,
      "outputs": []
    },
    {
      "cell_type": "markdown",
      "metadata": {
        "id": "_5HCVlh3Kmwc",
        "colab_type": "text"
      },
      "source": [
        "### 1-6-2 리스트"
      ]
    },
    {
      "cell_type": "code",
      "metadata": {
        "id": "B_zePj-FKoeH",
        "colab_type": "code",
        "colab": {
          "base_uri": "https://localhost:8080/",
          "height": 34
        },
        "outputId": "4b9e29b2-f8cf-4276-ead5-8c72b1a88fed"
      },
      "source": [
        "a = [1,2,3,4,'a']\n",
        "print(a)"
      ],
      "execution_count": 41,
      "outputs": [
        {
          "output_type": "stream",
          "text": [
            "[1, 2, 3, 4, 'a']\n"
          ],
          "name": "stdout"
        }
      ]
    },
    {
      "cell_type": "code",
      "metadata": {
        "id": "aQtL1xtmKq0e",
        "colab_type": "code",
        "colab": {
          "base_uri": "https://localhost:8080/",
          "height": 34
        },
        "outputId": "3f10955a-6034-42e2-8817-b6725f564f0d"
      },
      "source": [
        "a = [1,2,'3',4,'a']\n",
        "print(a)"
      ],
      "execution_count": 42,
      "outputs": [
        {
          "output_type": "stream",
          "text": [
            "[1, 2, '3', 4, 'a']\n"
          ],
          "name": "stdout"
        }
      ]
    },
    {
      "cell_type": "code",
      "metadata": {
        "id": "Bvy_iJb0KruM",
        "colab_type": "code",
        "colab": {}
      },
      "source": [
        "a = [1,2,3,4,'a']"
      ],
      "execution_count": 0,
      "outputs": []
    },
    {
      "cell_type": "code",
      "metadata": {
        "id": "d1JPPdP0Ks0O",
        "colab_type": "code",
        "colab": {
          "base_uri": "https://localhost:8080/",
          "height": 34
        },
        "outputId": "5072ceeb-731f-4d28-ea8f-1c325f53a1c7"
      },
      "source": [
        "# 2번째 값 가져오기\n",
        "a[1]"
      ],
      "execution_count": 44,
      "outputs": [
        {
          "output_type": "execute_result",
          "data": {
            "text/plain": [
              "2"
            ]
          },
          "metadata": {
            "tags": []
          },
          "execution_count": 44
        }
      ]
    },
    {
      "cell_type": "code",
      "metadata": {
        "id": "bQbgULx5KtxN",
        "colab_type": "code",
        "colab": {
          "base_uri": "https://localhost:8080/",
          "height": 34
        },
        "outputId": "8c04cde2-614a-4974-8077-bb8b9884e0ae"
      },
      "source": [
        "# 3번째부터 5번째값 가져오기\n",
        "a[2:5]"
      ],
      "execution_count": 45,
      "outputs": [
        {
          "output_type": "execute_result",
          "data": {
            "text/plain": [
              "[3, 4, 'a']"
            ]
          },
          "metadata": {
            "tags": []
          },
          "execution_count": 45
        }
      ]
    },
    {
      "cell_type": "code",
      "metadata": {
        "id": "MBguP2D-Ku2N",
        "colab_type": "code",
        "colab": {
          "base_uri": "https://localhost:8080/",
          "height": 34
        },
        "outputId": "6b1c1fd2-daf2-44af-e865-0cbc14396beb"
      },
      "source": [
        "a = [1,2,3,4,'a']\n",
        "a[-1]\n",
        "# 뒤에서부터 3개 가져오기\n",
        "a[-3:]"
      ],
      "execution_count": 46,
      "outputs": [
        {
          "output_type": "execute_result",
          "data": {
            "text/plain": [
              "[3, 4, 'a']"
            ]
          },
          "metadata": {
            "tags": []
          },
          "execution_count": 46
        }
      ]
    },
    {
      "cell_type": "code",
      "metadata": {
        "id": "jRlskTG6KwIR",
        "colab_type": "code",
        "colab": {
          "base_uri": "https://localhost:8080/",
          "height": 52
        },
        "outputId": "3283f8ec-84c6-46e8-ff2c-74310a8cb740"
      },
      "source": [
        "a = [ [1,2],\n",
        "[2,3],\n",
        "[4,5]\n",
        "]\n",
        "print(a[1]) # 2번째 값([2,3])\n",
        "print(a[1][1]) # 2번째 값중의 2번째 값을 가져오기"
      ],
      "execution_count": 47,
      "outputs": [
        {
          "output_type": "stream",
          "text": [
            "[2, 3]\n",
            "3\n"
          ],
          "name": "stdout"
        }
      ]
    },
    {
      "cell_type": "markdown",
      "metadata": {
        "id": "AVFaOOGeKxf9",
        "colab_type": "text"
      },
      "source": [
        "### 1-7 리스트의 연산"
      ]
    },
    {
      "cell_type": "code",
      "metadata": {
        "id": "D2htMOdBKziJ",
        "colab_type": "code",
        "colab": {
          "base_uri": "https://localhost:8080/",
          "height": 34
        },
        "outputId": "08f61e28-cfdd-4217-ea2d-477885d336eb"
      },
      "source": [
        "list1 = [1,2,3]\n",
        "list1"
      ],
      "execution_count": 48,
      "outputs": [
        {
          "output_type": "execute_result",
          "data": {
            "text/plain": [
              "[1, 2, 3]"
            ]
          },
          "metadata": {
            "tags": []
          },
          "execution_count": 48
        }
      ]
    },
    {
      "cell_type": "code",
      "metadata": {
        "id": "_onrc-jNK0iq",
        "colab_type": "code",
        "colab": {
          "base_uri": "https://localhost:8080/",
          "height": 34
        },
        "outputId": "87c71353-a610-4766-e5b0-ff245210d207"
      },
      "source": [
        "list1.append(4)\n",
        "list1"
      ],
      "execution_count": 49,
      "outputs": [
        {
          "output_type": "execute_result",
          "data": {
            "text/plain": [
              "[1, 2, 3, 4]"
            ]
          },
          "metadata": {
            "tags": []
          },
          "execution_count": 49
        }
      ]
    },
    {
      "cell_type": "code",
      "metadata": {
        "id": "dDoNRVadK1aq",
        "colab_type": "code",
        "colab": {
          "base_uri": "https://localhost:8080/",
          "height": 34
        },
        "outputId": "a4389bce-0918-4a52-9647-eade6e933d59"
      },
      "source": [
        "[1,1] + [2,2]"
      ],
      "execution_count": 50,
      "outputs": [
        {
          "output_type": "execute_result",
          "data": {
            "text/plain": [
              "[1, 1, 2, 2]"
            ]
          },
          "metadata": {
            "tags": []
          },
          "execution_count": 50
        }
      ]
    },
    {
      "cell_type": "code",
      "metadata": {
        "id": "_aJp-GFOK2cQ",
        "colab_type": "code",
        "colab": {
          "base_uri": "https://localhost:8080/",
          "height": 34
        },
        "outputId": "5ad8824c-c5c9-4546-c25a-668f157e22b6"
      },
      "source": [
        "list1 = [2, 1, 2, 3, 2]\n",
        "list1.remove(2)   ## 첫번째 2의 값을 삭제\n",
        "list1"
      ],
      "execution_count": 56,
      "outputs": [
        {
          "output_type": "execute_result",
          "data": {
            "text/plain": [
              "[1, 2, 3, 2]"
            ]
          },
          "metadata": {
            "tags": []
          },
          "execution_count": 56
        }
      ]
    },
    {
      "cell_type": "code",
      "metadata": {
        "id": "QnH2WhywK3UO",
        "colab_type": "code",
        "colab": {
          "base_uri": "https://localhost:8080/",
          "height": 34
        },
        "outputId": "88ebaa61-021f-42d6-84cd-1f1a018e49cd"
      },
      "source": [
        "list1.remove(2)   ## 2의 값을 삭제\n",
        "list1"
      ],
      "execution_count": 57,
      "outputs": [
        {
          "output_type": "execute_result",
          "data": {
            "text/plain": [
              "[1, 3, 2]"
            ]
          },
          "metadata": {
            "tags": []
          },
          "execution_count": 57
        }
      ]
    },
    {
      "cell_type": "code",
      "metadata": {
        "id": "dn1bxKg2K-Su",
        "colab_type": "code",
        "colab": {
          "base_uri": "https://localhost:8080/",
          "height": 34
        },
        "outputId": "c110e281-f191-4ab9-db87-10128f78b86b"
      },
      "source": [
        "## 두개의 값을 한꺼번에 추가하기\n",
        "list1.append([3,4])\n",
        "list1"
      ],
      "execution_count": 58,
      "outputs": [
        {
          "output_type": "execute_result",
          "data": {
            "text/plain": [
              "[1, 3, 2, [3, 4]]"
            ]
          },
          "metadata": {
            "tags": []
          },
          "execution_count": 58
        }
      ]
    },
    {
      "cell_type": "code",
      "metadata": {
        "id": "6xxjR6ikLEBo",
        "colab_type": "code",
        "colab": {
          "base_uri": "https://localhost:8080/",
          "height": 34
        },
        "outputId": "71690b07-2d49-46dc-95c7-7217f7cc1576"
      },
      "source": [
        "## 두개의 값을 한꺼번에 추가하기\n",
        "list1.extend([3,4])\n",
        "list1"
      ],
      "execution_count": 59,
      "outputs": [
        {
          "output_type": "execute_result",
          "data": {
            "text/plain": [
              "[1, 3, 2, [3, 4], 3, 4]"
            ]
          },
          "metadata": {
            "tags": []
          },
          "execution_count": 59
        }
      ]
    },
    {
      "cell_type": "markdown",
      "metadata": {
        "id": "B_B0GOEjLFre",
        "colab_type": "text"
      },
      "source": [
        "### 1-8 리스트와 for문"
      ]
    },
    {
      "cell_type": "code",
      "metadata": {
        "id": "XaTQrNd1LJqf",
        "colab_type": "code",
        "colab": {
          "base_uri": "https://localhost:8080/",
          "height": 133
        },
        "outputId": "02dbfada-7f30-40f3-bbdb-926bf920f0ba"
      },
      "source": [
        "list1 = [1,2,3,4,5,11,22,33,44,55]\n",
        "for i in list1:\n",
        "print(i, end=\" \")"
      ],
      "execution_count": 60,
      "outputs": [
        {
          "output_type": "error",
          "ename": "IndentationError",
          "evalue": "ignored",
          "traceback": [
            "\u001b[0;36m  File \u001b[0;32m\"<ipython-input-60-da97e596c9ee>\"\u001b[0;36m, line \u001b[0;32m3\u001b[0m\n\u001b[0;31m    print(i, end=\" \")\u001b[0m\n\u001b[0m        ^\u001b[0m\n\u001b[0;31mIndentationError\u001b[0m\u001b[0;31m:\u001b[0m expected an indented block\n"
          ]
        }
      ]
    },
    {
      "cell_type": "code",
      "metadata": {
        "id": "hvupVxghLKux",
        "colab_type": "code",
        "colab": {
          "base_uri": "https://localhost:8080/",
          "height": 34
        },
        "outputId": "3efa2da4-fb80-40a3-ccd7-0463b0402624"
      },
      "source": [
        "# range(시작값,끝값,증가값)\n",
        "for i in range(0,10,1):\n",
        "  print(i, end=\" \")"
      ],
      "execution_count": 61,
      "outputs": [
        {
          "output_type": "stream",
          "text": [
            "0 1 2 3 4 5 6 7 8 9 "
          ],
          "name": "stdout"
        }
      ]
    },
    {
      "cell_type": "code",
      "metadata": {
        "id": "bY7zpTl9LNRg",
        "colab_type": "code",
        "colab": {
          "base_uri": "https://localhost:8080/",
          "height": 34
        },
        "outputId": "3c2f8f93-6092-4375-f413-4cbf62be1d82"
      },
      "source": [
        "for i in range(10):\n",
        "  print(i, end=\" \")"
      ],
      "execution_count": 62,
      "outputs": [
        {
          "output_type": "stream",
          "text": [
            "0 1 2 3 4 5 6 7 8 9 "
          ],
          "name": "stdout"
        }
      ]
    },
    {
      "cell_type": "code",
      "metadata": {
        "id": "5iWa8H5pLQQ0",
        "colab_type": "code",
        "colab": {
          "base_uri": "https://localhost:8080/",
          "height": 34
        },
        "outputId": "ea5630f5-9248-48b6-a183-1b61cda634d4"
      },
      "source": [
        "for i in range(5, 0,-1):\n",
        "  print(i, end=\" \")"
      ],
      "execution_count": 63,
      "outputs": [
        {
          "output_type": "stream",
          "text": [
            "5 4 3 2 1 "
          ],
          "name": "stdout"
        }
      ]
    },
    {
      "cell_type": "code",
      "metadata": {
        "id": "YO0dL85OLSBd",
        "colab_type": "code",
        "colab": {
          "base_uri": "https://localhost:8080/",
          "height": 104
        },
        "outputId": "5e37808a-f096-4021-9536-044f21392f37"
      },
      "source": [
        "season = ['봄','여름','가을', '겨울']\n",
        "print(\"season의 요소의 개수 : \", len(season))\n",
        "for i in range(len(season)):\n",
        "  name = season[i]\n",
        "  print(name)"
      ],
      "execution_count": 64,
      "outputs": [
        {
          "output_type": "stream",
          "text": [
            "season의 요소의 개수 :  4\n",
            "봄\n",
            "여름\n",
            "가을\n",
            "겨울\n"
          ],
          "name": "stdout"
        }
      ]
    },
    {
      "cell_type": "markdown",
      "metadata": {
        "id": "A8XYuYyZLVQw",
        "colab_type": "text"
      },
      "source": [
        "### 1-8 딕셔너리 알아보기(영어단어:영어 뜻)"
      ]
    },
    {
      "cell_type": "code",
      "metadata": {
        "id": "ulPVp6qvLZ8a",
        "colab_type": "code",
        "colab": {}
      },
      "source": [
        ""
      ],
      "execution_count": 0,
      "outputs": []
    }
  ]
}