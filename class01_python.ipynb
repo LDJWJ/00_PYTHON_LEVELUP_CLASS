{
  "nbformat": 4,
  "nbformat_minor": 0,
  "metadata": {
    "colab": {
      "name": "class01_python.ipynb",
      "provenance": [],
      "authorship_tag": "ABX9TyNOfz+fRm2KIPqRGw+uUU1b",
      "include_colab_link": true
    },
    "kernelspec": {
      "name": "python3",
      "display_name": "Python 3"
    }
  },
  "cells": [
    {
      "cell_type": "markdown",
      "metadata": {
        "id": "view-in-github",
        "colab_type": "text"
      },
      "source": [
        "<a href=\"https://colab.research.google.com/github/LDJWJ/00_PYTHON_LEVELUP_CLASS/blob/master/class01_python.ipynb\" target=\"_parent\"><img src=\"https://colab.research.google.com/assets/colab-badge.svg\" alt=\"Open In Colab\"/></a>"
      ]
    },
    {
      "cell_type": "code",
      "metadata": {
        "id": "PjSu6UEsUK-g",
        "colab_type": "code",
        "colab": {
          "base_uri": "https://localhost:8080/",
          "height": 71
        },
        "outputId": "e0949b90-fc3b-4d83-ac5a-b5a204043f7d"
      },
      "source": [
        "print(\"Hello\")\n",
        "print(9)\n",
        "a = 10\n",
        "print(a)"
      ],
      "execution_count": 1,
      "outputs": [
        {
          "output_type": "stream",
          "text": [
            "Hello\n",
            "9\n",
            "10\n"
          ],
          "name": "stdout"
        }
      ]
    },
    {
      "cell_type": "code",
      "metadata": {
        "id": "blWkqXNScvq2",
        "colab_type": "code",
        "colab": {
          "base_uri": "https://localhost:8080/",
          "height": 35
        },
        "outputId": "05da0486-13fa-4ed3-b2d8-ab63882bfa00"
      },
      "source": [
        "a = 10\n",
        "b = 'a'\n",
        "str(a) + b"
      ],
      "execution_count": 2,
      "outputs": [
        {
          "output_type": "execute_result",
          "data": {
            "text/plain": [
              "'10a'"
            ]
          },
          "metadata": {
            "tags": []
          },
          "execution_count": 2
        }
      ]
    },
    {
      "cell_type": "code",
      "metadata": {
        "id": "mVeTucfIdRFl",
        "colab_type": "code",
        "colab": {
          "base_uri": "https://localhost:8080/",
          "height": 53
        },
        "outputId": "5e4457b2-8b11-4de1-c28a-95952fb3b11a"
      },
      "source": [
        "### 문자열 입력 후, 내용 출력하기\n",
        "name = input(\"당신의 이름은\")\n",
        "print(name)"
      ],
      "execution_count": 3,
      "outputs": [
        {
          "output_type": "stream",
          "text": [
            "당신의 이름은test\n",
            "test\n"
          ],
          "name": "stdout"
        }
      ]
    },
    {
      "cell_type": "code",
      "metadata": {
        "id": "89Liw5XUdj_c",
        "colab_type": "code",
        "colab": {
          "base_uri": "https://localhost:8080/",
          "height": 71
        },
        "outputId": "af39eaf1-2fca-4e05-9a91-1131f1f28b89"
      },
      "source": [
        "### 나이는 정수형. 문자열 입력 후, 내용 출력\n",
        "age = int(input(\"나이는:\"))\n",
        "print(age+20)\n",
        "print(type(age))"
      ],
      "execution_count": 4,
      "outputs": [
        {
          "output_type": "stream",
          "text": [
            "나이는:30\n",
            "50\n",
            "<class 'int'>\n"
          ],
          "name": "stdout"
        }
      ]
    },
    {
      "cell_type": "code",
      "metadata": {
        "id": "nIjocMQJd4oP",
        "colab_type": "code",
        "colab": {
          "base_uri": "https://localhost:8080/",
          "height": 35
        },
        "outputId": "18c33655-46be-49b8-9657-1da36a338244"
      },
      "source": [
        "a = 5.4\n",
        "type(a)"
      ],
      "execution_count": 5,
      "outputs": [
        {
          "output_type": "execute_result",
          "data": {
            "text/plain": [
              "float"
            ]
          },
          "metadata": {
            "tags": []
          },
          "execution_count": 5
        }
      ]
    },
    {
      "cell_type": "code",
      "metadata": {
        "id": "2YU5YBcKeS5t",
        "colab_type": "code",
        "colab": {
          "base_uri": "https://localhost:8080/",
          "height": 108
        },
        "outputId": "fdd8b6e8-8c49-4f56-f4f0-cc7d86081680"
      },
      "source": [
        "print(9+9) # 곱하기\n",
        "print(30/5) # 나누기\n",
        "print(2**10) # 제곱 연산\n",
        "print(15 % 4) # 나머지\n",
        "print(15//2) # 몫"
      ],
      "execution_count": 6,
      "outputs": [
        {
          "output_type": "stream",
          "text": [
            "18\n",
            "6.0\n",
            "1024\n",
            "3\n",
            "7\n"
          ],
          "name": "stdout"
        }
      ]
    },
    {
      "cell_type": "code",
      "metadata": {
        "id": "MTgP7xxjeh61",
        "colab_type": "code",
        "colab": {
          "base_uri": "https://localhost:8080/",
          "height": 35
        },
        "outputId": "8ed409c3-1cf0-4839-a1ba-6b20e6d824cd"
      },
      "source": [
        "1 == 1 # True (1이상)\n",
        "1 != 1 # False (0)\n",
        "1 >= 1\n",
        "1 <= 1\n",
        "# 1 => 1 # 에러"
      ],
      "execution_count": 7,
      "outputs": [
        {
          "output_type": "execute_result",
          "data": {
            "text/plain": [
              "True"
            ]
          },
          "metadata": {
            "tags": []
          },
          "execution_count": 7
        }
      ]
    },
    {
      "cell_type": "code",
      "metadata": {
        "id": "hdqAsvBreuOs",
        "colab_type": "code",
        "colab": {
          "base_uri": "https://localhost:8080/",
          "height": 53
        },
        "outputId": "f1e6dc22-01dd-43d2-9ff5-af55b797b843"
      },
      "source": [
        "print((1 == 1) or (1 > 0) )\n",
        "print((1 == 1) | (1 > 0) )"
      ],
      "execution_count": 8,
      "outputs": [
        {
          "output_type": "stream",
          "text": [
            "True\n",
            "True\n"
          ],
          "name": "stdout"
        }
      ]
    },
    {
      "cell_type": "code",
      "metadata": {
        "id": "X2O_sU58e6jm",
        "colab_type": "code",
        "colab": {
          "base_uri": "https://localhost:8080/",
          "height": 35
        },
        "outputId": "f0bd975d-b759-446b-ec8f-5139cb80ac96"
      },
      "source": [
        "type( (1 == 1) or (1 > 0) )"
      ],
      "execution_count": 9,
      "outputs": [
        {
          "output_type": "execute_result",
          "data": {
            "text/plain": [
              "bool"
            ]
          },
          "metadata": {
            "tags": []
          },
          "execution_count": 9
        }
      ]
    },
    {
      "cell_type": "code",
      "metadata": {
        "id": "1aWcOSLMfCwB",
        "colab_type": "code",
        "colab": {
          "base_uri": "https://localhost:8080/",
          "height": 35
        },
        "outputId": "5aa22dab-eff8-4d38-890e-793368886763"
      },
      "source": [
        "not \"AAAA\""
      ],
      "execution_count": 10,
      "outputs": [
        {
          "output_type": "execute_result",
          "data": {
            "text/plain": [
              "False"
            ]
          },
          "metadata": {
            "tags": []
          },
          "execution_count": 10
        }
      ]
    },
    {
      "cell_type": "code",
      "metadata": {
        "id": "t5DND7-hgE2T",
        "colab_type": "code",
        "colab": {
          "base_uri": "https://localhost:8080/",
          "height": 144
        },
        "outputId": "349b9b31-e657-436f-f7cd-80c52602ea53"
      },
      "source": [
        "a = 5\n",
        "b = 2\n",
        "plus = a + b\n",
        "mul = a * b\n",
        "div = a / b # 결과값 형변환 5/2 = 2.5\n",
        "remainder = a % b\n",
        "power = a ** b\n",
        "name =\"toto\"\n",
        "print(\"합은 a 입니다.\")\n",
        "print(\"합은 %d 입니다.\" % a)\n",
        "print(\"%d 와 %d의 합은 %d 입니다.\" % (a, b, plus))\n",
        "print(\"당신의 이름은 %s 입니다.\" % (name))\n",
        "\n",
        "print(\"{} 와 {}의 합은 {}입니다.\".format(a, b, plus))\n",
        "print(\"{1} 와 {2}의 합은 {0}입니다.\".format(a, b, plus))\n",
        "print(\"{} 와 {}의 나눈 값은 {:.2f}입니다.\".format(a, b, div))"
      ],
      "execution_count": 12,
      "outputs": [
        {
          "output_type": "stream",
          "text": [
            "합은 a 입니다.\n",
            "합은 5 입니다.\n",
            "5 와 2의 합은 7 입니다.\n",
            "당신의 이름은 toto 입니다.\n",
            "5 와 2의 합은 7입니다.\n",
            "2 와 7의 합은 5입니다.\n",
            "5 와 2의 나눈 값은 2.50입니다.\n"
          ],
          "name": "stdout"
        }
      ]
    },
    {
      "cell_type": "code",
      "metadata": {
        "id": "CKig8Ihchcj3",
        "colab_type": "code",
        "colab": {
          "base_uri": "https://localhost:8080/",
          "height": 35
        },
        "outputId": "50e3a397-9b33-4a03-9b8d-09bbf12d21c0"
      },
      "source": [
        "print(\"{2} 와 {1}의 합은 {0}입니다.\".format(2, 5, 7))"
      ],
      "execution_count": 13,
      "outputs": [
        {
          "output_type": "stream",
          "text": [
            "7 와 5의 합은 2입니다.\n"
          ],
          "name": "stdout"
        }
      ]
    },
    {
      "cell_type": "code",
      "metadata": {
        "id": "gn_TicQIh4s5",
        "colab_type": "code",
        "colab": {
          "base_uri": "https://localhost:8080/",
          "height": 35
        },
        "outputId": "be7678ea-11b5-412c-af3d-bea3f0c51d70"
      },
      "source": [
        "people = 10\n",
        "apple = 35\n",
        "if people >= 10:\n",
        "  print(\"사람이 10명이상입니다.\")"
      ],
      "execution_count": 14,
      "outputs": [
        {
          "output_type": "stream",
          "text": [
            "사람이 10명이상입니다.\n"
          ],
          "name": "stdout"
        }
      ]
    },
    {
      "cell_type": "code",
      "metadata": {
        "id": "GoJY16XNiukG",
        "colab_type": "code",
        "colab": {
          "base_uri": "https://localhost:8080/",
          "height": 89
        },
        "outputId": "c8bd76f0-1b70-4655-a12f-9cbd12306611"
      },
      "source": [
        "if num >= 10:\n",
        "  print(\"사람이 10명이상입니다.\") # indent라고 한다. 동일하게 해 준다.\n",
        "  print(\"사람이 10명이상입니다.\")\n",
        "  print(\"사람이 10명이상입니다.\")\n",
        "else:\n",
        "  print(\"사람이 10명 미만입니다\")"
      ],
      "execution_count": 16,
      "outputs": [
        {
          "output_type": "stream",
          "text": [
            "사람이 10명이상입니다.\n",
            "사람이 10명이상입니다.\n",
            "사람이 10명이상입니다.\n",
            "사람이 10명이상입니다.\n"
          ],
          "name": "stdout"
        }
      ]
    },
    {
      "cell_type": "markdown",
      "metadata": {
        "id": "bifGY0VNjcsl",
        "colab_type": "text"
      },
      "source": [
        "### 웹 데이터 수집"
      ]
    },
    {
      "cell_type": "code",
      "metadata": {
        "id": "minObK4qsMJX",
        "colab_type": "code",
        "colab": {}
      },
      "source": [
        "import urllib.request\n",
        "import bs4"
      ],
      "execution_count": 0,
      "outputs": []
    },
    {
      "cell_type": "code",
      "metadata": {
        "id": "7qqou2Mp478M",
        "colab_type": "code",
        "colab": {}
      },
      "source": [
        "from urllib.request import urlopen\n",
        "from bs4 import BeautifulSoup"
      ],
      "execution_count": 0,
      "outputs": []
    },
    {
      "cell_type": "code",
      "metadata": {
        "id": "rYtgZYKzvG_F",
        "colab_type": "code",
        "colab": {
          "base_uri": "https://localhost:8080/",
          "height": 35
        },
        "outputId": "ef70ae1f-728a-44f8-f90f-3b4979335307"
      },
      "source": [
        "url = \"https://movie.naver.com/movie/running/current.nhn\"\n",
        "page = urlopen(url)\n",
        "soup = BeautifulSoup(page, 'lxml')\n",
        "soup.title"
      ],
      "execution_count": 28,
      "outputs": [
        {
          "output_type": "execute_result",
          "data": {
            "text/plain": [
              "<title>현재 상영영화 : 네이버 영화</title>"
            ]
          },
          "metadata": {
            "tags": []
          },
          "execution_count": 28
        }
      ]
    },
    {
      "cell_type": "code",
      "metadata": {
        "id": "CGktDC-F6gsn",
        "colab_type": "code",
        "colab": {
          "base_uri": "https://localhost:8080/",
          "height": 35
        },
        "outputId": "ce90f00a-dbf2-477b-e818-d7f26af61f51"
      },
      "source": [
        "a = [10, 20, 30]\n",
        "type(a)"
      ],
      "execution_count": 34,
      "outputs": [
        {
          "output_type": "execute_result",
          "data": {
            "text/plain": [
              "list"
            ]
          },
          "metadata": {
            "tags": []
          },
          "execution_count": 34
        }
      ]
    },
    {
      "cell_type": "code",
      "metadata": {
        "id": "QkZXPovywO_-",
        "colab_type": "code",
        "colab": {
          "base_uri": "https://localhost:8080/",
          "height": 1000
        },
        "outputId": "0d799a77-0ff4-4430-c1d2-8d7892cd321a"
      },
      "source": [
        "all = soup.find_all(\"dt\", class_=\"tit\")\n",
        "all"
      ],
      "execution_count": 38,
      "outputs": [
        {
          "output_type": "execute_result",
          "data": {
            "text/plain": [
              "[<dt class=\"tit\">\n",
              " <span class=\"ico_rating_12\">12세 관람가</span>\n",
              " <a href=\"/movie/bi/mi/basic.nhn?code=186821\">정직한 후보</a>\n",
              " <!-- N=a:nol.title,r:1,i:186821 -->\n",
              " </dt>, <dt class=\"tit\">\n",
              " <span class=\"ico_rating_all\">전체 관람가</span>\n",
              " <a href=\"/movie/bi/mi/basic.nhn?code=186613\">작은 아씨들</a>\n",
              " <!-- N=a:nol.title,r:2,i:186613 -->\n",
              " </dt>, <dt class=\"tit\">\n",
              " <span class=\"ico_rating_15\">15세 관람가</span>\n",
              " <a href=\"/movie/bi/mi/basic.nhn?code=181925\">클로젯</a>\n",
              " <!-- N=a:nol.title,r:3,i:181925 -->\n",
              " </dt>, <dt class=\"tit\">\n",
              " <span class=\"ico_rating_15\">15세 관람가</span>\n",
              " <a href=\"/movie/bi/mi/basic.nhn?code=161967\">기생충</a>\n",
              " <!-- N=a:nol.title,r:4,i:161967 -->\n",
              " </dt>, <dt class=\"tit\">\n",
              " <span class=\"ico_rating_15\">15세 관람가</span>\n",
              " <a href=\"/movie/bi/mi/basic.nhn?code=176306\">남산의 부장들</a>\n",
              " <!-- N=a:nol.title,r:5,i:176306 -->\n",
              " </dt>, <dt class=\"tit\">\n",
              " <span class=\"ico_rating_all\">전체 관람가</span>\n",
              " <a href=\"/movie/bi/mi/basic.nhn?code=172816\">수퍼 소닉</a>\n",
              " <!-- N=a:nol.title,r:6,i:172816 -->\n",
              " </dt>, <dt class=\"tit\">\n",
              " <span class=\"ico_rating_15\">15세 관람가</span>\n",
              " <a href=\"/movie/bi/mi/basic.nhn?code=187350\">버즈 오브 프레이(할리 퀸의 황홀한 해방)</a>\n",
              " <!-- N=a:nol.title,r:7,i:187350 -->\n",
              " </dt>, <dt class=\"tit\">\n",
              " <span class=\"ico_rating_all\">전체 관람가</span>\n",
              " <a href=\"/movie/bi/mi/basic.nhn?code=190325\">극장판 미니특공대: 공룡왕 디노</a>\n",
              " <!-- N=a:nol.title,r:8,i:190325 -->\n",
              " </dt>, <dt class=\"tit\">\n",
              " <span class=\"ico_rating_12\">12세 관람가</span>\n",
              " <a href=\"/movie/bi/mi/basic.nhn?code=187308\">조조 래빗</a>\n",
              " <!-- N=a:nol.title,r:9,i:187308 -->\n",
              " </dt>, <dt class=\"tit\">\n",
              " <span class=\"ico_rating_15\">15세 관람가</span>\n",
              " <a href=\"/movie/bi/mi/basic.nhn?code=185838\">히트맨</a>\n",
              " <!-- N=a:nol.title,r:10,i:185838 -->\n",
              " </dt>, <dt class=\"tit\">\n",
              " <span class=\"ico_rating_all\">전체 관람가</span>\n",
              " <a href=\"/movie/bi/mi/basic.nhn?code=187324\">극장판 원피스 스탬피드</a>\n",
              " <!-- N=a:nol.title,r:11,i:187324 -->\n",
              " </dt>, <dt class=\"tit\">\n",
              " <span class=\"ico_rating_12\">12세 관람가</span>\n",
              " <a href=\"/movie/bi/mi/basic.nhn?code=52515\">인셉션</a>\n",
              " <!-- N=a:nol.title,r:12,i:52515 -->\n",
              " </dt>, <dt class=\"tit\">\n",
              " <span class=\"ico_rating_15\">15세 관람가</span>\n",
              " <a href=\"/movie/bi/mi/basic.nhn?code=185282\">타오르는 여인의 초상</a>\n",
              " <!-- N=a:nol.title,r:13,i:185282 -->\n",
              " </dt>, <dt class=\"tit\">\n",
              " <span class=\"ico_rating_15\">15세 관람가</span>\n",
              " <a href=\"/movie/bi/mi/basic.nhn?code=181287\">이 멋진 세계에 축복을! 붉은 전설</a>\n",
              " <!-- N=a:nol.title,r:14,i:181287 -->\n",
              " </dt>, <dt class=\"tit\">\n",
              " <span class=\"ico_rating_18\">청소년 관람불가</span>\n",
              " <a href=\"/movie/bi/mi/basic.nhn?code=185254\">페인 앤 글로리</a>\n",
              " <!-- N=a:nol.title,r:15,i:185254 -->\n",
              " </dt>, <dt class=\"tit\">\n",
              " <span class=\"ico_rating_all\">전체 관람가</span>\n",
              " <a href=\"/movie/bi/mi/basic.nhn?code=172780\">스파이 지니어스</a>\n",
              " <!-- N=a:nol.title,r:16,i:172780 -->\n",
              " </dt>, <dt class=\"tit\">\n",
              " <span class=\"ico_rating_15\">15세 관람가</span>\n",
              " <a href=\"/movie/bi/mi/basic.nhn?code=188765\">문신을 한 신부님</a>\n",
              " <!-- N=a:nol.title,r:17,i:188765 -->\n",
              " </dt>, <dt class=\"tit\">\n",
              " <span class=\"ico_rating_15\">15세 관람가</span>\n",
              " <a href=\"/movie/bi/mi/basic.nhn?code=184571\">사마에게</a>\n",
              " <!-- N=a:nol.title,r:18,i:184571 -->\n",
              " </dt>, <dt class=\"tit\">\n",
              " <span class=\"ico_rating_15\">15세 관람가</span>\n",
              " <a href=\"/movie/bi/mi/basic.nhn?code=10453\">졸업</a>\n",
              " <!-- N=a:nol.title,r:19,i:10453 -->\n",
              " </dt>, <dt class=\"tit\">\n",
              " <span class=\"ico_rating_12\">12세 관람가</span>\n",
              " <a href=\"/movie/bi/mi/basic.nhn?code=189000\">나이브스 아웃</a>\n",
              " <!-- N=a:nol.title,r:20,i:189000 -->\n",
              " </dt>, <dt class=\"tit\">\n",
              " <span class=\"ico_rating_12\">12세 관람가</span>\n",
              " <a href=\"/movie/bi/mi/basic.nhn?code=181710\">포드 V 페라리</a>\n",
              " <!-- N=a:nol.title,r:21,i:181710 -->\n",
              " </dt>, <dt class=\"tit\">\n",
              " <span class=\"ico_rating_all\">전체 관람가</span>\n",
              " <a href=\"/movie/bi/mi/basic.nhn?code=191431\">하이큐!! 땅 VS 하늘</a>\n",
              " <!-- N=a:nol.title,r:22,i:191431 -->\n",
              " </dt>, <dt class=\"tit\">\n",
              " <span class=\"ico_rating_all\">전체 관람가</span>\n",
              " <a href=\"/movie/bi/mi/basic.nhn?code=136873\">겨울왕국 2</a>\n",
              " <!-- N=a:nol.title,r:23,i:136873 -->\n",
              " </dt>, <dt class=\"tit\">\n",
              " <span class=\"ico_rating_12\">12세 관람가</span>\n",
              " <a href=\"/movie/bi/mi/basic.nhn?code=182387\">윤희에게</a>\n",
              " <!-- N=a:nol.title,r:24,i:182387 -->\n",
              " </dt>, <dt class=\"tit\">\n",
              " <span class=\"ico_rating_12\">12세 관람가</span>\n",
              " <a href=\"/movie/bi/mi/basic.nhn?code=181276\">카잔자키스</a>\n",
              " <!-- N=a:nol.title,r:25,i:181276 -->\n",
              " </dt>, <dt class=\"tit\">\n",
              " <span class=\"ico_rating_12\">12세 관람가</span>\n",
              " <a href=\"/movie/bi/mi/basic.nhn?code=189111\">두 교황</a>\n",
              " <!-- N=a:nol.title,r:26,i:189111 -->\n",
              " </dt>, <dt class=\"tit\">\n",
              " <span class=\"ico_rating_15\">15세 관람가</span>\n",
              " <a href=\"/movie/bi/mi/basic.nhn?code=179307\">벌새</a>\n",
              " <!-- N=a:nol.title,r:27,i:179307 -->\n",
              " </dt>, <dt class=\"tit\">\n",
              " <span class=\"ico_rating_15\">15세 관람가</span>\n",
              " <a href=\"/movie/bi/mi/basic.nhn?code=153934\">이태원</a>\n",
              " <!-- N=a:nol.title,r:28,i:153934 -->\n",
              " </dt>, <dt class=\"tit\">\n",
              " <span class=\"ico_rating_15\">15세 관람가</span>\n",
              " <a href=\"/movie/bi/mi/basic.nhn?code=179398\">메기</a>\n",
              " <!-- N=a:nol.title,r:29,i:179398 -->\n",
              " </dt>, <dt class=\"tit\">\n",
              " <span class=\"ico_rating_15\">15세 관람가</span>\n",
              " <a href=\"/movie/bi/mi/basic.nhn?code=181114\">날씨의 아이</a>\n",
              " <!-- N=a:nol.title,r:30,i:181114 -->\n",
              " </dt>, <dt class=\"tit\">\n",
              " <span class=\"ico_rating_18\">청소년 관람불가</span>\n",
              " <a href=\"/movie/bi/mi/basic.nhn?code=154298\">아이리시맨</a>\n",
              " <!-- N=a:nol.title,r:31,i:154298 -->\n",
              " </dt>, <dt class=\"tit\">\n",
              " <span class=\"ico_rating_15\">15세 관람가</span>\n",
              " <a href=\"/movie/bi/mi/basic.nhn?code=167335\">에릭 클랩튼: 기타의 신</a>\n",
              " <!-- N=a:nol.title,r:32,i:167335 -->\n",
              " </dt>, <dt class=\"tit\">\n",
              " <span class=\"ico_rating_15\">15세 관람가</span>\n",
              " <a href=\"/movie/bi/mi/basic.nhn?code=29059\">피아니스트의 전설</a>\n",
              " <!-- N=a:nol.title,r:33,i:29059 -->\n",
              " </dt>, <dt class=\"tit\">\n",
              " <span class=\"ico_rating_15\">15세 관람가</span>\n",
              " <a href=\"/movie/bi/mi/basic.nhn?code=188056\">결혼 이야기</a>\n",
              " <!-- N=a:nol.title,r:34,i:188056 -->\n",
              " </dt>, <dt class=\"tit\">\n",
              " <span class=\"ico_rating_all\">전체 관람가</span>\n",
              " <a href=\"/movie/bi/mi/basic.nhn?code=190225\">마리오 보타 : 영혼을 위한 건축</a>\n",
              " <!-- N=a:nol.title,r:35,i:190225 -->\n",
              " </dt>, <dt class=\"tit\">\n",
              " <span class=\"ico_rating_all\">전체 관람가</span>\n",
              " <a href=\"/movie/bi/mi/basic.nhn?code=190306\">핑크퐁 시네마 콘서트 : 우주대탐험</a>\n",
              " <!-- N=a:nol.title,r:36,i:190306 -->\n",
              " </dt>, <dt class=\"tit\">\n",
              " <span class=\"ico_rating_18\">청소년 관람불가</span>\n",
              " <a href=\"/movie/bi/mi/basic.nhn?code=172836\">원스 어폰 어 타임... 인 할리우드</a>\n",
              " <!-- N=a:nol.title,r:37,i:172836 -->\n",
              " </dt>, <dt class=\"tit\">\n",
              " <span class=\"ico_rating_15\">15세 관람가</span>\n",
              " <a href=\"/movie/bi/mi/basic.nhn?code=167613\">조커</a>\n",
              " <!-- N=a:nol.title,r:38,i:167613 -->\n",
              " </dt>, <dt class=\"tit\">\n",
              " <span class=\"ico_rating_all\">전체 관람가</span>\n",
              " <a href=\"/movie/bi/mi/basic.nhn?code=19031\">러브레터</a>\n",
              " <!-- N=a:nol.title,r:39,i:19031 -->\n",
              " </dt>, <dt class=\"tit\">\n",
              " <span class=\"ico_rating_12\">12세 관람가</span>\n",
              " <a href=\"/movie/bi/mi/basic.nhn?code=185357\">파바로티</a>\n",
              " <!-- N=a:nol.title,r:40,i:185357 -->\n",
              " </dt>, <dt class=\"tit\">\n",
              " <span class=\"ico_rating_12\">12세 관람가</span>\n",
              " <a href=\"/movie/bi/mi/basic.nhn?code=174294\">성혜의 나라</a>\n",
              " <!-- N=a:nol.title,r:41,i:174294 -->\n",
              " </dt>, <dt class=\"tit\">\n",
              " <span class=\"ico_rating_12\">12세 관람가</span>\n",
              " <a href=\"/movie/bi/mi/basic.nhn?code=178067\">고흐, 영원의 문에서</a>\n",
              " <!-- N=a:nol.title,r:42,i:178067 -->\n",
              " </dt>, <dt class=\"tit\">\n",
              " <span class=\"ico_rating_12\">12세 관람가</span>\n",
              " <a href=\"/movie/bi/mi/basic.nhn?code=187940\">백두산</a>\n",
              " <!-- N=a:nol.title,r:43,i:187940 -->\n",
              " </dt>, <dt class=\"tit\">\n",
              " <span class=\"ico_rating_12\">12세 관람가</span>\n",
              " <a href=\"/movie/bi/mi/basic.nhn?code=64162\">페르세폴리스</a>\n",
              " <!-- N=a:nol.title,r:44,i:64162 -->\n",
              " </dt>, <dt class=\"tit\">\n",
              " <span class=\"ico_rating_15\">15세 관람가</span>\n",
              " <a href=\"/movie/bi/mi/basic.nhn?code=186615\">미드웨이</a>\n",
              " <!-- N=a:nol.title,r:45,i:186615 -->\n",
              " </dt>, <dt class=\"tit\">\n",
              " <span class=\"ico_rating_all\">전체 관람가</span>\n",
              " <a href=\"/movie/bi/mi/basic.nhn?code=190223\">울지마 톤즈 2 : 슈크란 바바</a>\n",
              " <!-- N=a:nol.title,r:46,i:190223 -->\n",
              " </dt>, <dt class=\"tit\">\n",
              " <span class=\"ico_rating_all\">전체 관람가</span>\n",
              " <a href=\"/movie/bi/mi/basic.nhn?code=162854\">바르다가 사랑한 얼굴들</a>\n",
              " <!-- N=a:nol.title,r:47,i:162854 -->\n",
              " </dt>, <dt class=\"tit\">\n",
              " <span class=\"ico_rating_12\">12세 관람가</span>\n",
              " <a href=\"/movie/bi/mi/basic.nhn?code=185275\">미안해요, 리키</a>\n",
              " <!-- N=a:nol.title,r:48,i:185275 -->\n",
              " </dt>, <dt class=\"tit\">\n",
              " <span class=\"ico_rating_12\">12세 관람가</span>\n",
              " <a href=\"/movie/bi/mi/basic.nhn?code=188367\">혼 : 공포의 시작</a>\n",
              " <!-- N=a:nol.title,r:49,i:188367 -->\n",
              " </dt>, <dt class=\"tit\">\n",
              " <span class=\"ico_rating_12\">12세 관람가</span>\n",
              " <a href=\"/movie/bi/mi/basic.nhn?code=180851\">작은 빛</a>\n",
              " <!-- N=a:nol.title,r:50,i:180851 -->\n",
              " </dt>, <dt class=\"tit\">\n",
              " <span class=\"ico_rating_all\">전체 관람가</span>\n",
              " <a href=\"/movie/bi/mi/basic.nhn?code=174748\">프란치스코 교황: 맨 오브 히스 워드</a>\n",
              " <!-- N=a:nol.title,r:51,i:174748 -->\n",
              " </dt>, <dt class=\"tit\">\n",
              " <span class=\"ico_rating_12\">12세 관람가</span>\n",
              " <a href=\"/movie/bi/mi/basic.nhn?code=179482\">82년생 김지영</a>\n",
              " <!-- N=a:nol.title,r:52,i:179482 -->\n",
              " </dt>, <dt class=\"tit\">\n",
              " <span class=\"ico_rating_18\">청소년 관람불가</span>\n",
              " <a href=\"/movie/bi/mi/basic.nhn?code=175045\">경계선</a>\n",
              " <!-- N=a:nol.title,r:53,i:175045 -->\n",
              " </dt>, <dt class=\"tit\">\n",
              " <span class=\"ico_rating_15\">15세 관람가</span>\n",
              " <a href=\"/movie/bi/mi/basic.nhn?code=189631\">갱</a>\n",
              " <!-- N=a:nol.title,r:54,i:189631 -->\n",
              " </dt>, <dt class=\"tit\">\n",
              " <span class=\"ico_rating_all\">전체 관람가</span>\n",
              " <a href=\"/movie/bi/mi/basic.nhn?code=94185\">말하는 건축 시티:홀</a>\n",
              " <!-- N=a:nol.title,r:55,i:94185 -->\n",
              " </dt>, <dt class=\"tit\">\n",
              " <span class=\"ico_rating_15\">15세 관람가</span>\n",
              " <a href=\"/movie/bi/mi/basic.nhn?code=183236\">신의 은총으로</a>\n",
              " <!-- N=a:nol.title,r:56,i:183236 -->\n",
              " </dt>, <dt class=\"tit\">\n",
              " <span class=\"ico_rating_12\">12세 관람가</span>\n",
              " <a href=\"/movie/bi/mi/basic.nhn?code=182028\">위 아 리틀 좀비</a>\n",
              " <!-- N=a:nol.title,r:57,i:182028 -->\n",
              " </dt>, <dt class=\"tit\">\n",
              " <span class=\"ico_rating_12\">12세 관람가</span>\n",
              " <a href=\"/movie/bi/mi/basic.nhn?code=180462\">브라 이야기</a>\n",
              " <!-- N=a:nol.title,r:58,i:180462 -->\n",
              " </dt>, <dt class=\"tit\">\n",
              " <span class=\"ico_rating_15\">15세 관람가</span>\n",
              " <a href=\"/movie/bi/mi/basic.nhn?code=174255\">기억할 만한 지나침</a>\n",
              " <!-- N=a:nol.title,r:59,i:174255 -->\n",
              " </dt>, <dt class=\"tit\">\n",
              " <span class=\"ico_rating_12\">12세 관람가</span>\n",
              " <a href=\"/movie/bi/mi/basic.nhn?code=180025\">해치지않아</a>\n",
              " <!-- N=a:nol.title,r:60,i:180025 -->\n",
              " </dt>, <dt class=\"tit\">\n",
              " <span class=\"ico_rating_all\">전체 관람가</span>\n",
              " <a href=\"/movie/bi/mi/basic.nhn?code=189463\">몽마르트 파파</a>\n",
              " <!-- N=a:nol.title,r:61,i:189463 -->\n",
              " </dt>, <dt class=\"tit\">\n",
              " <span class=\"ico_rating_all\">전체 관람가</span>\n",
              " <a href=\"/movie/bi/mi/basic.nhn?code=179416\">녹차의 중력</a>\n",
              " <!-- N=a:nol.title,r:62,i:179416 -->\n",
              " </dt>, <dt class=\"tit\">\n",
              " <span class=\"ico_rating_15\">15세 관람가</span>\n",
              " <a href=\"/movie/bi/mi/basic.nhn?code=52075\">공기인형</a>\n",
              " <!-- N=a:nol.title,r:63,i:52075 -->\n",
              " </dt>, <dt class=\"tit\">\n",
              " <span class=\"ico_rating_15\">15세 관람가</span>\n",
              " <a href=\"/movie/bi/mi/basic.nhn?code=162266\">나이트 헌터</a>\n",
              " <!-- N=a:nol.title,r:64,i:162266 -->\n",
              " </dt>, <dt class=\"tit\">\n",
              " <span class=\"ico_rating_12\">12세 관람가</span>\n",
              " <a href=\"/movie/bi/mi/basic.nhn?code=179415\">백두 번째 구름</a>\n",
              " <!-- N=a:nol.title,r:65,i:179415 -->\n",
              " </dt>, <dt class=\"tit\">\n",
              " <span class=\"ico_rating_15\">15세 관람가</span>\n",
              " <a href=\"/movie/bi/mi/basic.nhn?code=182013\">21 브릿지: 테러 셧다운</a>\n",
              " <!-- N=a:nol.title,r:66,i:182013 -->\n",
              " </dt>, <dt class=\"tit\">\n",
              " <span class=\"ico_rating_15\">15세 관람가</span>\n",
              " <a href=\"/movie/bi/mi/basic.nhn?code=170286\">국경의 왕</a>\n",
              " <!-- N=a:nol.title,r:67,i:170286 -->\n",
              " </dt>, <dt class=\"tit\">\n",
              " <span class=\"ico_rating_18\">청소년 관람불가</span>\n",
              " <a href=\"/movie/bi/mi/basic.nhn?code=35388\">그녀에게</a>\n",
              " <!-- N=a:nol.title,r:68,i:35388 -->\n",
              " </dt>, <dt class=\"tit\">\n",
              " <span class=\"ico_rating_12\">12세 관람가</span>\n",
              " <a href=\"/movie/bi/mi/basic.nhn?code=159648\">그들이 진심으로 엮을 때</a>\n",
              " <!-- N=a:nol.title,r:69,i:159648 -->\n",
              " </dt>, <dt class=\"tit\">\n",
              " <span class=\"ico_rating_12\">12세 관람가</span>\n",
              " <a href=\"/movie/bi/mi/basic.nhn?code=171539\">그린 북</a>\n",
              " <!-- N=a:nol.title,r:70,i:171539 -->\n",
              " </dt>, <dt class=\"tit\">\n",
              " <span class=\"ico_rating_all\">전체 관람가</span>\n",
              " <a href=\"/movie/bi/mi/basic.nhn?code=117773\">늙은 자전거</a>\n",
              " <!-- N=a:nol.title,r:71,i:117773 -->\n",
              " </dt>, <dt class=\"tit\">\n",
              " <span class=\"ico_rating_12\">12세 관람가</span>\n",
              " <a href=\"/movie/bi/mi/basic.nhn?code=189071\">대통령의 7시간</a>\n",
              " <!-- N=a:nol.title,r:72,i:189071 -->\n",
              " </dt>, <dt class=\"tit\">\n",
              " <span class=\"ico_rating_12\">12세 관람가</span>\n",
              " <a href=\"/movie/bi/mi/basic.nhn?code=146480\">덩케르크</a>\n",
              " <!-- N=a:nol.title,r:73,i:146480 -->\n",
              " </dt>, <dt class=\"tit\">\n",
              " <span class=\"ico_rating_12\">12세 관람가</span>\n",
              " <a href=\"/movie/bi/mi/basic.nhn?code=183528\">동명이인 프로젝트 시즌2</a>\n",
              " <!-- N=a:nol.title,r:74,i:183528 -->\n",
              " </dt>, <dt class=\"tit\">\n",
              " <span class=\"ico_rating_15\">15세 관람가</span>\n",
              " <a href=\"/movie/bi/mi/basic.nhn?code=10117\">라붐</a>\n",
              " <!-- N=a:nol.title,r:75,i:10117 -->\n",
              " </dt>, <dt class=\"tit\">\n",
              " <span class=\"ico_rating_all\">전체 관람가</span>\n",
              " <a href=\"/movie/bi/mi/basic.nhn?code=179420\">라스트 씬</a>\n",
              " <!-- N=a:nol.title,r:76,i:179420 -->\n",
              " </dt>, <dt class=\"tit\">\n",
              " <span class=\"ico_rating_15\">15세 관람가</span>\n",
              " <a href=\"/movie/bi/mi/basic.nhn?code=178097\">로마</a>\n",
              " <!-- N=a:nol.title,r:77,i:178097 -->\n",
              " </dt>, <dt class=\"tit\">\n",
              " <span class=\"ico_rating_15\">15세 관람가</span>\n",
              " <a href=\"/movie/bi/mi/basic.nhn?code=96379\">비긴 어게인</a>\n",
              " <!-- N=a:nol.title,r:78,i:96379 -->\n",
              " </dt>, <dt class=\"tit\">\n",
              " <span class=\"ico_rating_all\">전체 관람가</span>\n",
              " <a href=\"/movie/bi/mi/basic.nhn?code=164335\">산상수훈</a>\n",
              " <!-- N=a:nol.title,r:79,i:164335 -->\n",
              " </dt>, <dt class=\"tit\">\n",
              " <span class=\"ico_rating_all\">전체 관람가</span>\n",
              " <a href=\"/movie/bi/mi/basic.nhn?code=21467\">삼일천하</a>\n",
              " <!-- N=a:nol.title,r:80,i:21467 -->\n",
              " </dt>, <dt class=\"tit\">\n",
              " <span class=\"ico_rating_12\">12세 관람가</span>\n",
              " <a href=\"/movie/bi/mi/basic.nhn?code=170290\">소은이의 무릎</a>\n",
              " <!-- N=a:nol.title,r:81,i:170290 -->\n",
              " </dt>, <dt class=\"tit\">\n",
              " <a href=\"/movie/bi/mi/basic.nhn?code=18906\">야성녀</a>\n",
              " <!-- N=a:nol.title,r:82,i:18906 -->\n",
              " </dt>, <dt class=\"tit\">\n",
              " <span class=\"ico_rating_all\">전체 관람가</span>\n",
              " <a href=\"/movie/bi/mi/basic.nhn?code=182012\">어글리 돌</a>\n",
              " <!-- N=a:nol.title,r:83,i:182012 -->\n",
              " </dt>, <dt class=\"tit\">\n",
              " <span class=\"ico_rating_15\">15세 관람가</span>\n",
              " <a href=\"/movie/bi/mi/basic.nhn?code=172174\">어느 가족</a>\n",
              " <!-- N=a:nol.title,r:84,i:172174 -->\n",
              " </dt>, <dt class=\"tit\">\n",
              " <span class=\"ico_rating_all\">전체 관람가</span>\n",
              " <a href=\"/movie/bi/mi/basic.nhn?code=146068\">어메이징 그레이스</a>\n",
              " <!-- N=a:nol.title,r:85,i:146068 -->\n",
              " </dt>, <dt class=\"tit\">\n",
              " <span class=\"ico_rating_12\">12세 관람가</span>\n",
              " <a href=\"/movie/bi/mi/basic.nhn?code=189563\">우리를 갈라놓는 것들</a>\n",
              " <!-- N=a:nol.title,r:86,i:189563 -->\n",
              " </dt>, <dt class=\"tit\">\n",
              " <span class=\"ico_rating_all\">전체 관람가</span>\n",
              " <a href=\"/movie/bi/mi/basic.nhn?code=184125\">우키시마호</a>\n",
              " <!-- N=a:nol.title,r:87,i:184125 -->\n",
              " </dt>, <dt class=\"tit\">\n",
              " <span class=\"ico_rating_all\">전체 관람가</span>\n",
              " <a href=\"/movie/bi/mi/basic.nhn?code=76667\">울지마 톤즈</a>\n",
              " <!-- N=a:nol.title,r:88,i:76667 -->\n",
              " </dt>, <dt class=\"tit\">\n",
              " <span class=\"ico_rating_15\">15세 관람가</span>\n",
              " <a href=\"/movie/bi/mi/basic.nhn?code=113165\">이다</a>\n",
              " <!-- N=a:nol.title,r:89,i:113165 -->\n",
              " </dt>, <dt class=\"tit\">\n",
              " <span class=\"ico_rating_12\">12세 관람가</span>\n",
              " <a href=\"/movie/bi/mi/basic.nhn?code=179318\">일일시호일</a>\n",
              " <!-- N=a:nol.title,r:90,i:179318 -->\n",
              " </dt>, <dt class=\"tit\">\n",
              " <span class=\"ico_rating_18\">청소년 관람불가</span>\n",
              " <a href=\"/movie/bi/mi/basic.nhn?code=131384\">종이 달</a>\n",
              " <!-- N=a:nol.title,r:91,i:131384 -->\n",
              " </dt>, <dt class=\"tit\">\n",
              " <span class=\"ico_rating_15\">15세 관람가</span>\n",
              " <a href=\"/movie/bi/mi/basic.nhn?code=23160\">철낭자</a>\n",
              " <!-- N=a:nol.title,r:92,i:23160 -->\n",
              " </dt>, <dt class=\"tit\">\n",
              " <span class=\"ico_rating_12\">12세 관람가</span>\n",
              " <a href=\"/movie/bi/mi/basic.nhn?code=172143\">철벽선생</a>\n",
              " <!-- N=a:nol.title,r:93,i:172143 -->\n",
              " </dt>, <dt class=\"tit\">\n",
              " <a href=\"/movie/bi/mi/basic.nhn?code=15026\">페이튼 플레이스</a>\n",
              " <!-- N=a:nol.title,r:94,i:15026 -->\n",
              " </dt>, <dt class=\"tit\">\n",
              " <span class=\"ico_rating_15\">15세 관람가</span>\n",
              " <a href=\"/movie/bi/mi/basic.nhn?code=179310\">호흡</a>\n",
              " <!-- N=a:nol.title,r:95,i:179310 -->\n",
              " </dt>, <dt class=\"tit\">\n",
              " <span class=\"ico_rating_15\">15세 관람가</span>\n",
              " <a href=\"/movie/bi/mi/basic.nhn?code=155123\">미스 사이공: 25주년 특별 공연</a>\n",
              " <!-- N=a:nol.title,r:96,i:155123 -->\n",
              " </dt>]"
            ]
          },
          "metadata": {
            "tags": []
          },
          "execution_count": 38
        }
      ]
    },
    {
      "cell_type": "code",
      "metadata": {
        "id": "IdVvdWH86zey",
        "colab_type": "code",
        "colab": {
          "base_uri": "https://localhost:8080/",
          "height": 35
        },
        "outputId": "5c57c50f-9487-475c-d449-95404a4cb31a"
      },
      "source": [
        "all[2].a.text"
      ],
      "execution_count": 42,
      "outputs": [
        {
          "output_type": "execute_result",
          "data": {
            "text/plain": [
              "'클로젯'"
            ]
          },
          "metadata": {
            "tags": []
          },
          "execution_count": 42
        }
      ]
    },
    {
      "cell_type": "code",
      "metadata": {
        "id": "r5IRizIy7EZ4",
        "colab_type": "code",
        "colab": {
          "base_uri": "https://localhost:8080/",
          "height": 89
        },
        "outputId": "70d172c7-9aab-46d9-81dc-3f216c1dd579"
      },
      "source": [
        "print(a)\n",
        "for i in a:\n",
        "  print(i)"
      ],
      "execution_count": 44,
      "outputs": [
        {
          "output_type": "stream",
          "text": [
            "[10, 20, 30]\n",
            "10\n",
            "20\n",
            "30\n"
          ],
          "name": "stdout"
        }
      ]
    },
    {
      "cell_type": "code",
      "metadata": {
        "id": "SGGBdxd16zkc",
        "colab_type": "code",
        "colab": {
          "base_uri": "https://localhost:8080/",
          "height": 1000
        },
        "outputId": "6d6246c1-d13f-4c15-9dc2-f409a0154312"
      },
      "source": [
        "for one in all:\n",
        "  print(one.a.text)"
      ],
      "execution_count": 45,
      "outputs": [
        {
          "output_type": "stream",
          "text": [
            "정직한 후보\n",
            "작은 아씨들\n",
            "클로젯\n",
            "기생충\n",
            "남산의 부장들\n",
            "수퍼 소닉\n",
            "버즈 오브 프레이(할리 퀸의 황홀한 해방)\n",
            "극장판 미니특공대: 공룡왕 디노\n",
            "조조 래빗\n",
            "히트맨\n",
            "극장판 원피스 스탬피드\n",
            "인셉션\n",
            "타오르는 여인의 초상\n",
            "이 멋진 세계에 축복을! 붉은 전설\n",
            "페인 앤 글로리\n",
            "스파이 지니어스\n",
            "문신을 한 신부님\n",
            "사마에게\n",
            "졸업\n",
            "나이브스 아웃\n",
            "포드 V 페라리\n",
            "하이큐!! 땅 VS 하늘\n",
            "겨울왕국 2\n",
            "윤희에게\n",
            "카잔자키스\n",
            "두 교황\n",
            "벌새\n",
            "이태원\n",
            "메기\n",
            "날씨의 아이\n",
            "아이리시맨\n",
            "에릭 클랩튼: 기타의 신\n",
            "피아니스트의 전설\n",
            "결혼 이야기\n",
            "마리오 보타 : 영혼을 위한 건축\n",
            "핑크퐁 시네마 콘서트 : 우주대탐험\n",
            "원스 어폰 어 타임... 인 할리우드\n",
            "조커\n",
            "러브레터\n",
            "파바로티\n",
            "성혜의 나라\n",
            "고흐, 영원의 문에서\n",
            "백두산\n",
            "페르세폴리스\n",
            "미드웨이\n",
            "울지마 톤즈 2 : 슈크란 바바\n",
            "바르다가 사랑한 얼굴들\n",
            "미안해요, 리키\n",
            "혼 : 공포의 시작\n",
            "작은 빛\n",
            "프란치스코 교황: 맨 오브 히스 워드\n",
            "82년생 김지영\n",
            "경계선\n",
            "갱\n",
            "말하는 건축 시티:홀\n",
            "신의 은총으로\n",
            "위 아 리틀 좀비\n",
            "브라 이야기\n",
            "기억할 만한 지나침\n",
            "해치지않아\n",
            "몽마르트 파파\n",
            "녹차의 중력\n",
            "공기인형\n",
            "나이트 헌터\n",
            "백두 번째 구름\n",
            "21 브릿지: 테러 셧다운\n",
            "국경의 왕\n",
            "그녀에게\n",
            "그들이 진심으로 엮을 때\n",
            "그린 북\n",
            "늙은 자전거\n",
            "대통령의 7시간\n",
            "덩케르크\n",
            "동명이인 프로젝트 시즌2\n",
            "라붐\n",
            "라스트 씬\n",
            "로마\n",
            "비긴 어게인\n",
            "산상수훈\n",
            "삼일천하\n",
            "소은이의 무릎\n",
            "야성녀\n",
            "어글리 돌\n",
            "어느 가족\n",
            "어메이징 그레이스\n",
            "우리를 갈라놓는 것들\n",
            "우키시마호\n",
            "울지마 톤즈\n",
            "이다\n",
            "일일시호일\n",
            "종이 달\n",
            "철낭자\n",
            "철벽선생\n",
            "페이튼 플레이스\n",
            "호흡\n",
            "미스 사이공: 25주년 특별 공연\n"
          ],
          "name": "stdout"
        }
      ]
    },
    {
      "cell_type": "code",
      "metadata": {
        "id": "ro7993l5wr_Q",
        "colab_type": "code",
        "colab": {
          "base_uri": "https://localhost:8080/",
          "height": 35
        },
        "outputId": "72c8e79b-4764-4069-d7ad-d43233c3daf9"
      },
      "source": [
        "one.a.text"
      ],
      "execution_count": 31,
      "outputs": [
        {
          "output_type": "execute_result",
          "data": {
            "text/plain": [
              "'정직한 후보'"
            ]
          },
          "metadata": {
            "tags": []
          },
          "execution_count": 31
        }
      ]
    },
    {
      "cell_type": "code",
      "metadata": {
        "id": "nJotRPcWw3tA",
        "colab_type": "code",
        "colab": {
          "base_uri": "https://localhost:8080/",
          "height": 35
        },
        "outputId": "e5863c08-84db-47ea-f518-11e98cae965f"
      },
      "source": [
        "kospi = soup.find(\"span\", id=\"KOSPI_now\").text\n",
        "print(\"현재 코스피 지수는 :\",kospi)"
      ],
      "execution_count": 26,
      "outputs": [
        {
          "output_type": "stream",
          "text": [
            "현재 코스피 지수는 : 2,243.59\n"
          ],
          "name": "stdout"
        }
      ]
    },
    {
      "cell_type": "code",
      "metadata": {
        "id": "6My5ZZN4xHLd",
        "colab_type": "code",
        "colab": {}
      },
      "source": [
        "url = \"https://movie.naver.com/movie/running/current.nhn\""
      ],
      "execution_count": 0,
      "outputs": []
    }
  ]
}