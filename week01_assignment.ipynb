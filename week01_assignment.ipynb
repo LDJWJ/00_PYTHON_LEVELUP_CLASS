{
 "cells": [
  {
   "cell_type": "markdown",
   "metadata": {},
   "source": [
    "### 1주차 문제 풀이\n",
    "```\n",
    "(1) (쉬움+1)고양이 출력하기\n",
    "https://www.acmicpc.net/problem/10171\n",
    "(Hint 작은 따옴표 출력하기)\n",
    "\n",
    "(2) (쉬움) A+B 출력\n",
    "https://www.acmicpc.net/problem/1000\n",
    "\n",
    "(3) (쉬움) 사칙연산\n",
    "https://www.acmicpc.net/problem/10869\n",
    "  \n",
    "(4) (보통) 나머지\n",
    "https://www.acmicpc.net/problem/10430\n",
    "(Hint 한줄에 세개의 값을 입력받기)\n",
    "\n",
    "(5) (쉬움) if - 두수 비교하기\n",
    "https://www.acmicpc.net/problem/1330\n",
    "\n",
    "```"
   ]
  },
  {
   "cell_type": "code",
   "execution_count": 4,
   "metadata": {},
   "outputs": [
    {
     "name": "stdout",
     "output_type": "stream",
     "text": [
      "\\    /\\ \n",
      ")  ( ')\n",
      "(  /  )\n",
      " \\(__)|\n"
     ]
    }
   ],
   "source": [
    "print(\"\\    /\\ \")\n",
    "print(\")  ( ')\")\n",
    "print(\"(  /  )\")\n",
    "print(\" \\(__)|\")"
   ]
  },
  {
   "cell_type": "markdown",
   "metadata": {},
   "source": [
    "```\n",
    "(2) (쉬움) A+B 출력\n",
    "https://www.acmicpc.net/problem/1000\n",
    "```"
   ]
  },
  {
   "cell_type": "code",
   "execution_count": 5,
   "metadata": {},
   "outputs": [
    {
     "name": "stdout",
     "output_type": "stream",
     "text": [
      "1 2\n",
      "12\n"
     ]
    }
   ],
   "source": [
    "a, b = input().split()\n",
    "print(a+b)"
   ]
  },
  {
   "cell_type": "code",
   "execution_count": 6,
   "metadata": {},
   "outputs": [
    {
     "name": "stdout",
     "output_type": "stream",
     "text": [
      "1 2\n",
      "3\n"
     ]
    }
   ],
   "source": [
    "a, b = input().split()\n",
    "a = int(a)\n",
    "b = int(b)\n",
    "print(a+b)"
   ]
  },
  {
   "cell_type": "markdown",
   "metadata": {},
   "source": [
    "### 또 다른 방법"
   ]
  },
  {
   "cell_type": "code",
   "execution_count": 7,
   "metadata": {},
   "outputs": [
    {
     "name": "stdout",
     "output_type": "stream",
     "text": [
      "1 2\n",
      "3\n"
     ]
    }
   ],
   "source": [
    "a, b = map(int, input().split() )\n",
    "print(a+b)"
   ]
  },
  {
   "cell_type": "markdown",
   "metadata": {},
   "source": [
    "```\n",
    "(3) (쉬움) 사칙연산\n",
    "https://www.acmicpc.net/problem/10869\n",
    "```"
   ]
  },
  {
   "cell_type": "code",
   "execution_count": 9,
   "metadata": {},
   "outputs": [
    {
     "name": "stdout",
     "output_type": "stream",
     "text": [
      "7 3\n",
      "10\n",
      "4\n",
      "21\n",
      "2\n",
      "1\n"
     ]
    }
   ],
   "source": [
    "a, b = map(int, input().split() )\n",
    "print(a+b)\n",
    "print(a-b)\n",
    "print(a*b)\n",
    "print(int(a/b))\n",
    "print(a%b)"
   ]
  },
  {
   "cell_type": "markdown",
   "metadata": {},
   "source": [
    "```\n",
    "(4) (보통) 나머지\n",
    "https://www.acmicpc.net/problem/10430\n",
    "(Hint 한줄에 세개의 값을 입력받기)\n",
    "```"
   ]
  },
  {
   "cell_type": "code",
   "execution_count": 11,
   "metadata": {},
   "outputs": [
    {
     "name": "stdout",
     "output_type": "stream",
     "text": [
      "5 8 4\n",
      "1\n"
     ]
    }
   ],
   "source": [
    "a, b, c = map(int, input().split() )\n",
    "print( (a+b)%c )"
   ]
  },
  {
   "cell_type": "code",
   "execution_count": 12,
   "metadata": {},
   "outputs": [
    {
     "name": "stdout",
     "output_type": "stream",
     "text": [
      "3 2\n",
      ">\n"
     ]
    }
   ],
   "source": [
    "a, b = map(int, input().split() )\n",
    "\n",
    "if a > b:\n",
    "    print(\">\")"
   ]
  },
  {
   "cell_type": "code",
   "execution_count": null,
   "metadata": {},
   "outputs": [],
   "source": []
  }
 ],
 "metadata": {
  "kernelspec": {
   "display_name": "Python 3",
   "language": "python",
   "name": "python3"
  },
  "language_info": {
   "codemirror_mode": {
    "name": "ipython",
    "version": 3
   },
   "file_extension": ".py",
   "mimetype": "text/x-python",
   "name": "python",
   "nbconvert_exporter": "python",
   "pygments_lexer": "ipython3",
   "version": "3.6.5"
  }
 },
 "nbformat": 4,
 "nbformat_minor": 2
}
