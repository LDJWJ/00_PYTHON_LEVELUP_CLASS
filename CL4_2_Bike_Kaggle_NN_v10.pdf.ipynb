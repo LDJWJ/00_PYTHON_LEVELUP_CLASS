{
 "cells": [
  {
   "cell_type": "markdown",
   "metadata": {},
   "source": [
    "## 딥러닝 모델 구현하기"
   ]
  },
  {
   "cell_type": "code",
   "execution_count": 1,
   "metadata": {},
   "outputs": [
    {
     "name": "stderr",
     "output_type": "stream",
     "text": [
      "C:\\Users\\front\\Anaconda3\\lib\\site-packages\\h5py\\__init__.py:36: FutureWarning: Conversion of the second argument of issubdtype from `float` to `np.floating` is deprecated. In future, it will be treated as `np.float64 == np.dtype(float).type`.\n",
      "  from ._conv import register_converters as _register_converters\n",
      "Using TensorFlow backend.\n"
     ]
    }
   ],
   "source": [
    "import pandas as pd\n",
    "import tensorflow as tf\n",
    "import keras\n",
    "import numpy as np"
   ]
  },
  {
   "cell_type": "code",
   "execution_count": 2,
   "metadata": {},
   "outputs": [],
   "source": [
    "## train 데이터 셋 , test 데이터 셋\n",
    "## train 은 학습을 위한 입력 데이터 셋\n",
    "## test 은 예측을 위한 새로운 데이터 셋(평가)\n",
    "## parse_dates : datetime 컬럼을 시간형으로 불러올 수 있음\n",
    "train = pd.read_csv(\"train.csv\", parse_dates=['datetime'])\n",
    "test = pd.read_csv(\"test.csv\", parse_dates=['datetime'])"
   ]
  },
  {
   "cell_type": "code",
   "execution_count": 3,
   "metadata": {},
   "outputs": [
    {
     "data": {
      "text/plain": [
       "Index(['datetime', 'season', 'holiday', 'workingday', 'weather', 'temp',\n",
       "       'atemp', 'humidity', 'windspeed', 'casual', 'registered', 'count'],\n",
       "      dtype='object')"
      ]
     },
     "execution_count": 3,
     "metadata": {},
     "output_type": "execute_result"
    }
   ],
   "source": [
    "train.columns"
   ]
  },
  {
   "cell_type": "code",
   "execution_count": 4,
   "metadata": {},
   "outputs": [],
   "source": [
    "input_col = [ 'temp', 'atemp']\n",
    "labeled_col = ['count']"
   ]
  },
  {
   "cell_type": "code",
   "execution_count": 5,
   "metadata": {},
   "outputs": [],
   "source": [
    "X = train[ input_col ]\n",
    "Y = train[ labeled_col ]\n",
    "X_test = test[input_col]"
   ]
  },
  {
   "cell_type": "code",
   "execution_count": 6,
   "metadata": {},
   "outputs": [],
   "source": [
    "seed = 0\n",
    "np.random.seed(seed)\n",
    "tf.set_random_seed(seed)"
   ]
  },
  {
   "cell_type": "markdown",
   "metadata": {},
   "source": [
    "## 딥러닝 구조 결정"
   ]
  },
  {
   "cell_type": "markdown",
   "metadata": {},
   "source": [
    "* 케라스 라이브러리 중에서 Sequential 함수는 딥러닝의 구조를 한층 한층 쉽게 쌓아올릴 수 있다.\n",
    "* Sequential() 함수 선언 후, model.add() 함수를 사용한다\n",
    "* input_dim 입력층 노드\n",
    "* activation - 활성화 함수 선언 (relu, sigmoid)\n",
    "* Dense() 함수를 이용하여 각 층에 세부 내용을 설정해 준다."
   ]
  },
  {
   "cell_type": "code",
   "execution_count": 7,
   "metadata": {},
   "outputs": [],
   "source": [
    "from keras.models import Sequential\n",
    "from keras.layers import Dense"
   ]
  },
  {
   "cell_type": "code",
   "execution_count": 8,
   "metadata": {},
   "outputs": [
    {
     "name": "stdout",
     "output_type": "stream",
     "text": [
      "WARNING:tensorflow:From C:\\Users\\front\\Anaconda3\\lib\\site-packages\\tensorflow_core\\python\\ops\\resource_variable_ops.py:1630: calling BaseResourceVariable.__init__ (from tensorflow.python.ops.resource_variable_ops) with constraint is deprecated and will be removed in a future version.\n",
      "Instructions for updating:\n",
      "If using Keras pass *_constraint arguments to layers.\n"
     ]
    }
   ],
   "source": [
    "model = Sequential()\n",
    "model.add(Dense(30, input_dim=2, activation='relu'))\n",
    "model.add(Dense(15, activation='relu') )\n",
    "model.add(Dense(15, activation='relu') )\n",
    "model.add(Dense(1))"
   ]
  },
  {
   "cell_type": "markdown",
   "metadata": {},
   "source": [
    "### 미니배치의 이해\n",
    " * 이미지를 하나씩 학습시키는 것보다 여러 개를 한꺼번에 학습시키는 쪽이 효과가 좋다.\n",
    " * 많은 메모리와 높은 컴퓨터 성능이 필요하므로 일반적으로 데이터를 적당한 크기로 잘라서 학습시킨다.\n",
    "  * **미니배치**라고 한다."
   ]
  },
  {
   "cell_type": "markdown",
   "metadata": {},
   "source": [
    "### 딥러닝 실행"
   ]
  },
  {
   "cell_type": "code",
   "execution_count": 9,
   "metadata": {
    "scrolled": true
   },
   "outputs": [
    {
     "name": "stdout",
     "output_type": "stream",
     "text": [
      "WARNING:tensorflow:From C:\\Users\\front\\Anaconda3\\lib\\site-packages\\keras\\backend\\tensorflow_backend.py:422: The name tf.global_variables is deprecated. Please use tf.compat.v1.global_variables instead.\n",
      "\n",
      "Epoch 1/20\n",
      "10886/10886 [==============================] - 5s 440us/step - loss: 32215.4259\n",
      "Epoch 2/20\n",
      "10886/10886 [==============================] - 4s 390us/step - loss: 27822.3804\n",
      "Epoch 3/20\n",
      "10886/10886 [==============================] - 4s 372us/step - loss: 27799.4619\n",
      "Epoch 4/20\n",
      "10886/10886 [==============================] - 5s 418us/step - loss: 27810.6515\n",
      "Epoch 5/20\n",
      "10886/10886 [==============================] - 4s 408us/step - loss: 27788.0589\n",
      "Epoch 6/20\n",
      "10886/10886 [==============================] - 4s 407us/step - loss: 27811.2559\n",
      "Epoch 7/20\n",
      "10886/10886 [==============================] - 4s 404us/step - loss: 27804.2920\n",
      "Epoch 8/20\n",
      "10886/10886 [==============================] - 4s 401us/step - loss: 27805.8322\n",
      "Epoch 9/20\n",
      "10886/10886 [==============================] - 4s 385us/step - loss: 27794.9449\n",
      "Epoch 10/20\n",
      "10886/10886 [==============================] - 4s 345us/step - loss: 27800.9246\n",
      "Epoch 11/20\n",
      "10886/10886 [==============================] - 4s 336us/step - loss: 27800.1090\n",
      "Epoch 12/20\n",
      "10886/10886 [==============================] - 4s 387us/step - loss: 27799.4314\n",
      "Epoch 13/20\n",
      "10886/10886 [==============================] - 4s 388us/step - loss: 27771.7366\n",
      "Epoch 14/20\n",
      "10886/10886 [==============================] - 4s 342us/step - loss: 27789.9621\n",
      "Epoch 15/20\n",
      "10886/10886 [==============================] - 4s 343us/step - loss: 27789.2633\n",
      "Epoch 16/20\n",
      "10886/10886 [==============================] - 3s 301us/step - loss: 27790.0284\n",
      "Epoch 17/20\n",
      "10886/10886 [==============================] - 4s 339us/step - loss: 27789.2146\n",
      "Epoch 18/20\n",
      "10886/10886 [==============================] - 3s 285us/step - loss: 27823.9719\n",
      "Epoch 19/20\n",
      "10886/10886 [==============================] - 4s 330us/step - loss: 27754.3512\n",
      "Epoch 20/20\n",
      "10886/10886 [==============================] - 3s 303us/step - loss: 27784.3502\n"
     ]
    },
    {
     "data": {
      "text/plain": [
       "<keras.callbacks.callbacks.History at 0x1c56b08cda0>"
      ]
     },
     "execution_count": 9,
     "metadata": {},
     "output_type": "execute_result"
    }
   ],
   "source": [
    "model.compile(loss = 'mean_squared_error', optimizer='rmsprop')\n",
    "model.fit(X, Y, epochs=20, batch_size=10)"
   ]
  },
  {
   "cell_type": "code",
   "execution_count": 10,
   "metadata": {},
   "outputs": [
    {
     "name": "stdout",
     "output_type": "stream",
     "text": [
      "10886/10886 [==============================] - 0s 44us/step\n"
     ]
    },
    {
     "data": {
      "text/plain": [
       "27717.913003585454"
      ]
     },
     "execution_count": 10,
     "metadata": {},
     "output_type": "execute_result"
    }
   ],
   "source": [
    "### 평가 확인\n",
    "model.evaluate(X, Y)"
   ]
  },
  {
   "cell_type": "code",
   "execution_count": 11,
   "metadata": {},
   "outputs": [],
   "source": [
    "pred = model.predict(X_test)"
   ]
  },
  {
   "cell_type": "code",
   "execution_count": 12,
   "metadata": {},
   "outputs": [],
   "source": [
    "sub = pd.read_csv(\"sampleSubmission.csv\")\n",
    "sub['count'] = pred\n",
    "\n",
    "sub.loc[sub['count']<0, 'count'] = 0   "
   ]
  },
  {
   "cell_type": "code",
   "execution_count": 13,
   "metadata": {},
   "outputs": [],
   "source": [
    "# 처음 만는 제출용 csv 파일, 행번호를 없애기\n",
    "sub.to_csv(\"NNsubmission2.csv\", index=False)"
   ]
  },
  {
   "cell_type": "code",
   "execution_count": 14,
   "metadata": {},
   "outputs": [
    {
     "name": "stdout",
     "output_type": "stream",
     "text": [
      " C 드라이브의 볼륨에는 이름이 없습니다.\n",
      " 볼륨 일련 번호: 6CB1-CD77\n",
      "\n",
      " C:\\Users\\front\\Documents\\PythonBasic 디렉터리\n",
      "\n",
      "2020-02-01  오후 04:40           199,407 NNsubmission.csv\n",
      "2020-03-07  오후 03:48           199,792 NNsubmission2.csv\n",
      "               2개 파일             399,199 바이트\n",
      "               0개 디렉터리  84,435,587,072 바이트 남음\n"
     ]
    }
   ],
   "source": [
    "!dir NNsub*"
   ]
  },
  {
   "cell_type": "code",
   "execution_count": null,
   "metadata": {},
   "outputs": [],
   "source": []
  }
 ],
 "metadata": {
  "kernelspec": {
   "display_name": "Python 3",
   "language": "python",
   "name": "python3"
  },
  "language_info": {
   "codemirror_mode": {
    "name": "ipython",
    "version": 3
   },
   "file_extension": ".py",
   "mimetype": "text/x-python",
   "name": "python",
   "nbconvert_exporter": "python",
   "pygments_lexer": "ipython3",
   "version": "3.6.5"
  }
 },
 "nbformat": 4,
 "nbformat_minor": 2
}
