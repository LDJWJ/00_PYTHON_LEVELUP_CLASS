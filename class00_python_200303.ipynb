{
  "nbformat": 4,
  "nbformat_minor": 0,
  "metadata": {
    "colab": {
      "name": "class00_python_200303.ipynb",
      "provenance": [],
      "authorship_tag": "ABX9TyNaxZJxMHJ/88nZtPf81rAa",
      "include_colab_link": true
    },
    "kernelspec": {
      "name": "python3",
      "display_name": "Python 3"
    }
  },
  "cells": [
    {
      "cell_type": "markdown",
      "metadata": {
        "id": "view-in-github",
        "colab_type": "text"
      },
      "source": [
        "<a href=\"https://colab.research.google.com/github/LDJWJ/00_PYTHON_LEVELUP_CLASS/blob/master/class00_python_200303.ipynb\" target=\"_parent\"><img src=\"https://colab.research.google.com/assets/colab-badge.svg\" alt=\"Open In Colab\"/></a>"
      ]
    },
    {
      "cell_type": "code",
      "metadata": {
        "id": "yI39nmH5JftV",
        "colab_type": "code",
        "outputId": "ec6e1c56-39c0-4b1d-e69c-183515cfb393",
        "colab": {
          "base_uri": "https://localhost:8080/",
          "height": 35
        }
      },
      "source": [
        "## 파이썬 시작하기\n",
        "## CTRL + ENTER, SHIFT + ENTER\n",
        "print(10)"
      ],
      "execution_count": 0,
      "outputs": [
        {
          "output_type": "stream",
          "text": [
            "10\n"
          ],
          "name": "stdout"
        }
      ]
    },
    {
      "cell_type": "code",
      "metadata": {
        "id": "8AfABfAgQ-mT",
        "colab_type": "code",
        "outputId": "d0e367ad-0320-4d6a-bfe5-fdd5761c8098",
        "colab": {
          "base_uri": "https://localhost:8080/",
          "height": 53
        }
      },
      "source": [
        "print(\"Hello1\")\n",
        "print('Hello2')"
      ],
      "execution_count": 0,
      "outputs": [
        {
          "output_type": "stream",
          "text": [
            "Hello1\n",
            "Hello2\n"
          ],
          "name": "stdout"
        }
      ]
    },
    {
      "cell_type": "code",
      "metadata": {
        "id": "AGA-sO2bRT_C",
        "colab_type": "code",
        "outputId": "9081e9cb-004c-48cf-d1e0-b38f88868195",
        "colab": {
          "base_uri": "https://localhost:8080/",
          "height": 53
        }
      },
      "source": [
        "a = 10     # a에 10을 넣어라. a를 일반적으로 변수(변하는 수)\n",
        "print(a)\n",
        "a =15\n",
        "print(a)"
      ],
      "execution_count": 0,
      "outputs": [
        {
          "output_type": "stream",
          "text": [
            "10\n",
            "15\n"
          ],
          "name": "stdout"
        }
      ]
    },
    {
      "cell_type": "code",
      "metadata": {
        "id": "m3bgtoq2Sdg5",
        "colab_type": "code",
        "outputId": "a6c96e33-73aa-45e6-a413-a78719f3da57",
        "colab": {
          "base_uri": "https://localhost:8080/",
          "height": 89
        }
      },
      "source": [
        "a = 10       # 정수형 변수 \n",
        "print(a)\n",
        "print( type(a)   )\n",
        "\n",
        "a = \"hello\"  # 문자형 변수\n",
        "print(a)\n",
        "print( type(a)  )"
      ],
      "execution_count": 0,
      "outputs": [
        {
          "output_type": "stream",
          "text": [
            "10\n",
            "<class 'int'>\n",
            "hello\n",
            "<class 'str'>\n"
          ],
          "name": "stdout"
        }
      ]
    },
    {
      "cell_type": "code",
      "metadata": {
        "id": "NS-GBXtfTHA-",
        "colab_type": "code",
        "outputId": "f1aa28eb-aecd-4821-e481-88ad474b1644",
        "colab": {
          "base_uri": "https://localhost:8080/",
          "height": 35
        }
      },
      "source": [
        "# '+' 연산 (문자형 변수의 경우)\n",
        "## 숫자나 특수문자로 시작이 되면 안된다.\n",
        "## 공백이 들어가면 안된다.\n",
        "# a! = (특수 문자가 들어가면 안된다.)\n",
        "a = \"Hello \"\n",
        "b = \"world\"\n",
        "print(a + b)"
      ],
      "execution_count": 0,
      "outputs": [
        {
          "output_type": "stream",
          "text": [
            "Hello world\n"
          ],
          "name": "stdout"
        }
      ]
    },
    {
      "cell_type": "code",
      "metadata": {
        "id": "a8Vs3jFfUJCR",
        "colab_type": "code",
        "outputId": "17486b8d-7060-4260-fb59-e325da4935e5",
        "colab": {
          "base_uri": "https://localhost:8080/",
          "height": 35
        }
      },
      "source": [
        "# '+' 연산 (정수형 변수의 경우)\n",
        "a = 10\n",
        "b = 20\n",
        "print(a + b)"
      ],
      "execution_count": 0,
      "outputs": [
        {
          "output_type": "stream",
          "text": [
            "30\n"
          ],
          "name": "stdout"
        }
      ]
    },
    {
      "cell_type": "code",
      "metadata": {
        "id": "aWwUpE7TUf9p",
        "colab_type": "code",
        "outputId": "4aedc26e-ce00-45d1-b1ac-3878240e7ebb",
        "colab": {
          "base_uri": "https://localhost:8080/",
          "height": 108
        }
      },
      "source": [
        "## 2-1. 로그인 (파이썬에서 주석이다.)\n",
        "name = input(\"당신의 아이디는 ?\")\n",
        "pwd = input(\"당신의 패스워드는 ?\")\n",
        "print(name)\n",
        "print(pwd)\n",
        "\n",
        "## 2-2. 출력2\n",
        "print(\"당신의 아이디는 :\",name,\"당신의 패스워드는 :\",pwd)"
      ],
      "execution_count": 0,
      "outputs": [
        {
          "output_type": "stream",
          "text": [
            "당신의 아이디는 ?toto\n",
            "당신의 패스워드는 ?1234\n",
            "toto\n",
            "1234\n",
            "당신의 아이디는 : toto 당신의 패스워드는 : 1234\n"
          ],
          "name": "stdout"
        }
      ]
    },
    {
      "cell_type": "code",
      "metadata": {
        "id": "a4zlOWhCVW9e",
        "colab_type": "code",
        "colab": {}
      },
      "source": [
        "## (실습 2-1) 패스워드까지 입력"
      ],
      "execution_count": 0,
      "outputs": []
    },
    {
      "cell_type": "code",
      "metadata": {
        "id": "8yZfPmtfWwKT",
        "colab_type": "code",
        "outputId": "83f3ecf0-8daf-43f2-8232-58d43d155a42",
        "colab": {
          "base_uri": "https://localhost:8080/",
          "height": 71
        }
      },
      "source": [
        "## 3-1 나이 입력 후, 출력\n",
        "age = input(\"당신의 나이는?\")\n",
        "print(type(age))  ## 문자형 변수\n",
        "print(\"당신의 나이는 :\" + age) "
      ],
      "execution_count": 0,
      "outputs": [
        {
          "output_type": "stream",
          "text": [
            "당신의 나이는?30\n",
            "<class 'str'>\n",
            "당신의 나이는 : 30\n"
          ],
          "name": "stdout"
        }
      ]
    },
    {
      "cell_type": "code",
      "metadata": {
        "id": "OlbJizVKZHoD",
        "colab_type": "code",
        "outputId": "92df3b43-62a1-44d1-8998-4706329c571c",
        "colab": {
          "base_uri": "https://localhost:8080/",
          "height": 35
        }
      },
      "source": [
        "print(\"당신의 나이는 :\" + age) "
      ],
      "execution_count": 0,
      "outputs": [
        {
          "output_type": "stream",
          "text": [
            "당신의 나이는 :30\n"
          ],
          "name": "stdout"
        }
      ]
    },
    {
      "cell_type": "code",
      "metadata": {
        "id": "GvVy3IR5Z7w9",
        "colab_type": "code",
        "outputId": "f714b1df-dab8-4fc6-b464-e56a0a02d972",
        "colab": {
          "base_uri": "https://localhost:8080/",
          "height": 53
        }
      },
      "source": [
        "## 3-2 int() 함수\n",
        "age = int(age)  # 숫자로 문자... \"10\" \"111\"\n",
        "print(type(age))\n",
        "print(\"당신의 10년 후의 나이는 ?\", age+10)"
      ],
      "execution_count": 0,
      "outputs": [
        {
          "output_type": "stream",
          "text": [
            "<class 'int'>\n",
            "당신의 10년 후의 나이는 ? 40\n"
          ],
          "name": "stdout"
        }
      ]
    },
    {
      "cell_type": "code",
      "metadata": {
        "id": "5yPKmEfdaSHe",
        "colab_type": "code",
        "outputId": "21f8135b-58e1-4031-f425-f61624f0614d",
        "colab": {
          "base_uri": "https://localhost:8080/",
          "height": 108
        }
      },
      "source": [
        "## 3-3 연산 \n",
        "## +, -, **, %(나머지), //(몫)\n",
        "print(9+9)   # 더하기\n",
        "print(30/5)  # 나누기 \n",
        "print(2**5)  # 2*2*2*2*2\n",
        "print(17 % 4) # 나머지 1\n",
        "print(17 // 4) # 몫 4"
      ],
      "execution_count": 0,
      "outputs": [
        {
          "output_type": "stream",
          "text": [
            "18\n",
            "6.0\n",
            "32\n",
            "1\n",
            "4\n"
          ],
          "name": "stdout"
        }
      ]
    },
    {
      "cell_type": "code",
      "metadata": {
        "id": "yEMCX-uPbEBd",
        "colab_type": "code",
        "outputId": "21b4ee3c-568a-4768-fc08-187d526e7292",
        "colab": {
          "base_uri": "https://localhost:8080/",
          "height": 35
        }
      },
      "source": [
        "## 3-4 비교 연산자\n",
        "## 같다 ==\n",
        "## 틀리다 !=\n",
        "## 크거나 같다 >=\n",
        "## 작거나 같다 <=\n",
        "## True, False\n",
        "5 == 5   # True"
      ],
      "execution_count": 0,
      "outputs": [
        {
          "output_type": "execute_result",
          "data": {
            "text/plain": [
              "True"
            ]
          },
          "metadata": {
            "tags": []
          },
          "execution_count": 33
        }
      ]
    },
    {
      "cell_type": "code",
      "metadata": {
        "id": "9qWOVXSrb3tA",
        "colab_type": "code",
        "outputId": "cf214ea7-e8e3-44ab-aee0-eb9bd369b8a5",
        "colab": {
          "base_uri": "https://localhost:8080/",
          "height": 71
        }
      },
      "source": [
        "print(5 != 5)   # False\n",
        "age = 18\n",
        "print(age >= 15) # True\n",
        "age = 13\n",
        "print(age >= 15) # False"
      ],
      "execution_count": 0,
      "outputs": [
        {
          "output_type": "stream",
          "text": [
            "False\n",
            "True\n",
            "False\n"
          ],
          "name": "stdout"
        }
      ]
    },
    {
      "cell_type": "code",
      "metadata": {
        "id": "J7X-USAlcOlB",
        "colab_type": "code",
        "outputId": "c629e609-8162-41ce-84a1-f7ee62810ea4",
        "colab": {
          "base_uri": "https://localhost:8080/",
          "height": 35
        }
      },
      "source": [
        "## 3-5 and, or, not\n",
        "## A and B : A와 B가 모두 True일 때 True, 하나라도 False있으면 False\n",
        "True and True   # True"
      ],
      "execution_count": 0,
      "outputs": [
        {
          "output_type": "execute_result",
          "data": {
            "text/plain": [
              "True"
            ]
          },
          "metadata": {
            "tags": []
          },
          "execution_count": 35
        }
      ]
    },
    {
      "cell_type": "code",
      "metadata": {
        "id": "debpLPFyco30",
        "colab_type": "code",
        "outputId": "5e82015e-343f-4a79-baaa-a6cc4ba1cd42",
        "colab": {
          "base_uri": "https://localhost:8080/",
          "height": 52
        }
      },
      "source": [
        "print(5==5 and 5>=3)  # True\n",
        "print(5!=5 and 5>=3)  # False and True => False"
      ],
      "execution_count": 0,
      "outputs": [
        {
          "output_type": "stream",
          "text": [
            "True\n",
            "False\n"
          ],
          "name": "stdout"
        }
      ]
    },
    {
      "cell_type": "code",
      "metadata": {
        "id": "PBhLzN6Gc1uF",
        "colab_type": "code",
        "outputId": "e4192d33-db3f-47e8-b302-0cc021c8384e",
        "colab": {
          "base_uri": "https://localhost:8080/",
          "height": 70
        }
      },
      "source": [
        "## 3-5-1 and, or, not\n",
        "## A or B : A와 B중에 하나라도 True가 있으면 결론적으로 True가 된다.그 외에는 False\n",
        "print(5!=5 or 5>=3)  # False and True => True\n",
        "## 19세 입장 금지 영화\n",
        "## 출입조건 19세 이상이고, 남자 입장 가능\n",
        "age = 17\n",
        "sex = \"M\"\n",
        "print(age >= 19 and sex==\"M\")  # True\n",
        "\n",
        "## 출입조건 19세 이상이거나(또는) 아이가 있는 친구는 가능한 영화\n",
        "age = 17\n",
        "gubun = \"P\" # 부모\n",
        "print(age >= 19 or gubun==\"P\")  # False or True  => True"
      ],
      "execution_count": 0,
      "outputs": [
        {
          "output_type": "stream",
          "text": [
            "True\n",
            "False\n",
            "True\n"
          ],
          "name": "stdout"
        }
      ]
    },
    {
      "cell_type": "code",
      "metadata": {
        "id": "0fb10FRKdxuY",
        "colab_type": "code",
        "outputId": "b5b3bed3-181e-424b-c806-19b0937fd68d",
        "colab": {
          "base_uri": "https://localhost:8080/",
          "height": 34
        }
      },
      "source": [
        "## not A  # 단항 연산자\n",
        "not False   # True"
      ],
      "execution_count": 0,
      "outputs": [
        {
          "output_type": "execute_result",
          "data": {
            "text/plain": [
              "True"
            ]
          },
          "metadata": {
            "tags": []
          },
          "execution_count": 39
        }
      ]
    },
    {
      "cell_type": "code",
      "metadata": {
        "id": "9Psjsir7e2f0",
        "colab_type": "code",
        "outputId": "035afde3-ea10-4de8-c598-469ce128c62e",
        "colab": {
          "base_uri": "https://localhost:8080/",
          "height": 52
        }
      },
      "source": [
        "print(not 5==5) # False\n",
        "age = 15\n",
        "print(not age>=18)  # not False => True"
      ],
      "execution_count": 0,
      "outputs": [
        {
          "output_type": "stream",
          "text": [
            "False\n",
            "True\n"
          ],
          "name": "stdout"
        }
      ]
    },
    {
      "cell_type": "code",
      "metadata": {
        "id": "77hXBAhMfKhH",
        "colab_type": "code",
        "outputId": "7aa33f42-f93a-4576-f006-12430f5f4165",
        "colab": {
          "base_uri": "https://localhost:8080/",
          "height": 52
        }
      },
      "source": [
        "## 3-6-1 if문\n",
        "## 영화관 \n",
        "## 15세 이상은 혼자 입장할 수 있다.\n",
        "## 15세 미만은 부모님이 동반해야 한다.\n",
        "alone = input(\"혼자 왔니?(Y/N)\")\n",
        "age = input(\"나이는 어떻게 되세요?\")\n",
        "age = int(age)"
      ],
      "execution_count": 0,
      "outputs": [
        {
          "output_type": "stream",
          "text": [
            "혼자 왔니?(Y/N)Y\n",
            "나이는 어떻게 되세요?17\n"
          ],
          "name": "stdout"
        }
      ]
    },
    {
      "cell_type": "markdown",
      "metadata": {
        "id": "Z31FNmHjf0Cj",
        "colab_type": "text"
      },
      "source": [
        "```\n",
        "if (조건식):\n",
        "[공백-indent]실행문1\n",
        "[공백-indent]실행문2\n",
        "else:\n",
        "[공백-indent]실행문1(조건식이 False)\n",
        "```"
      ]
    },
    {
      "cell_type": "code",
      "metadata": {
        "id": "rEYPJKzgfkL1",
        "colab_type": "code",
        "outputId": "44f52505-bf8c-4b7d-cc43-a98807e32ef9",
        "colab": {
          "base_uri": "https://localhost:8080/",
          "height": 34
        }
      },
      "source": [
        "if (age>=15):\n",
        "  print(\"입장 가능합니다.\")\n",
        "else:\n",
        "  print(\"입장이 불가하다.\")"
      ],
      "execution_count": 0,
      "outputs": [
        {
          "output_type": "stream",
          "text": [
            "입장 가능합니다.\n"
          ],
          "name": "stdout"
        }
      ]
    },
    {
      "cell_type": "code",
      "metadata": {
        "id": "yimhSwLigVG4",
        "colab_type": "code",
        "colab": {}
      },
      "source": [
        ""
      ],
      "execution_count": 0,
      "outputs": []
    }
  ]
}