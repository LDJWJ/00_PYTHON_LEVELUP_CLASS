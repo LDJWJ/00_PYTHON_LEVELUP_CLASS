{
 "cells": [
  {
   "cell_type": "markdown",
   "metadata": {},
   "source": [
    "## MNIST 예제 - Keras를 이용한 딥러닝 "
   ]
  },
  {
   "cell_type": "markdown",
   "metadata": {},
   "source": [
    "### 학습내용\n",
    " * Keras를 이용하여 간단한 딥러닝 모델을 만들어 본다.\n",
    " * MNIST는 손글씨 데이터이다. 훈련용 데이터 60000장, 테스트 데이터 10000장으로 구성"
   ]
  },
  {
   "cell_type": "markdown",
   "metadata": {},
   "source": [
    "## 사전준비\n",
    " * pip install tensorflow  를 하여 설치(python 3.7일 경우, 설치 안될 경우 발생할 수 있음.)\n",
    " * pip install keras 를 하여 설치\n",
    " * 기타 Google Colab이용 "
   ]
  },
  {
   "cell_type": "markdown",
   "metadata": {},
   "source": [
    "## Keras \n",
    "* https://keras.io/ \n",
    "* Keras는 파이썬의 딥러닝 라이브러리이다.\n",
    "* 쉽고 빠르게 동작하는 것을 만들어보고 싶을 때 사용해 본다."
   ]
  },
  {
   "cell_type": "code",
   "execution_count": 24,
   "metadata": {},
   "outputs": [],
   "source": [
    "from keras.datasets import mnist\n",
    "from keras.utils import np_utils"
   ]
  },
  {
   "cell_type": "code",
   "execution_count": 25,
   "metadata": {},
   "outputs": [],
   "source": [
    "import numpy\n",
    "import sys\n",
    "import tensorflow as tf"
   ]
  },
  {
   "cell_type": "code",
   "execution_count": 26,
   "metadata": {},
   "outputs": [],
   "source": [
    "seed = 0\n",
    "numpy.random.seed(seed)\n",
    "tf.set_random_seed(seed)"
   ]
  },
  {
   "cell_type": "code",
   "execution_count": 27,
   "metadata": {},
   "outputs": [
    {
     "name": "stdout",
     "output_type": "stream",
     "text": [
      "(60000, 28, 28)\n",
      "(60000,)\n",
      "(10000, 28, 28)\n",
      "(10000,)\n"
     ]
    }
   ],
   "source": [
    "(X_train, Y_train), (X_test, Y_test) = mnist.load_data()\n",
    "print(X_train.shape)\n",
    "print(Y_train.shape)\n",
    "print(X_test.shape)\n",
    "print(Y_test.shape)"
   ]
  },
  {
   "cell_type": "code",
   "execution_count": 28,
   "metadata": {},
   "outputs": [],
   "source": [
    "import matplotlib.pyplot as plt"
   ]
  },
  {
   "cell_type": "code",
   "execution_count": 29,
   "metadata": {},
   "outputs": [
    {
     "name": "stdout",
     "output_type": "stream",
     "text": [
      "label=[5 0 4 1 9 2 1 3 1 4 3 5 3 6 1]\n"
     ]
    },
    {
     "data": {
      "image/png": "[encoded data removed]",
      "text/plain": [
       "<Figure size 1296x864 with 15 Axes>"
      ]
     },
     "metadata": {},
     "output_type": "display_data"
    }
   ],
   "source": [
    "figure,axes = plt.subplots(nrows=3, ncols=5)\n",
    "figure.set_size_inches(18,12)\n",
    "\n",
    "plt.gray()\n",
    "print(\"label={}\".format(Y_train[0:15]))\n",
    "\n",
    "col = 0\n",
    "for row in range(0,3):\n",
    "    col = row * 5\n",
    "    axes[row][0].imshow(X_train[col])\n",
    "    axes[row][1].imshow(X_train[col+1])\n",
    "    axes[row][2].imshow(X_train[col+2])\n",
    "    axes[row][3].imshow(X_train[col+3])\n",
    "    axes[row][4].imshow(X_train[col+4])"
   ]
  },
  {
   "cell_type": "code",
   "execution_count": 30,
   "metadata": {},
   "outputs": [
    {
     "name": "stdout",
     "output_type": "stream",
     "text": [
      "60000\n",
      "5 [[  0   0   0   0   0   0   0   0   0   0   0   0   0   0   0   0   0   0\n",
      "    0   0   0   0   0   0   0   0   0   0]\n",
      " [  0   0   0   0   0   0   0   0   0   0   0   0   0   0   0   0   0   0\n",
      "    0   0   0   0   0   0   0   0   0   0]\n",
      " [  0   0   0   0   0   0   0   0   0   0   0   0   0   0   0   0   0   0\n",
      "    0   0   0   0   0   0   0   0   0   0]\n",
      " [  0   0   0   0   0   0   0   0   0   0   0   0   0   0   0   0   0   0\n",
      "    0   0   0   0   0   0   0   0   0   0]\n",
      " [  0   0   0   0   0   0   0   0   0   0   0   0   0   0   0   0   0   0\n",
      "    0   0   0   0   0   0   0   0   0   0]\n",
      " [  0   0   0   0   0   0   0   0   0   0   0   0   3  18  18  18 126 136\n",
      "  175  26 166 255 247 127   0   0   0   0]\n",
      " [  0   0   0   0   0   0   0   0  30  36  94 154 170 253 253 253 253 253\n",
      "  225 172 253 242 195  64   0   0   0   0]\n",
      " [  0   0   0   0   0   0   0  49 238 253 253 253 253 253 253 253 253 251\n",
      "   93  82  82  56  39   0   0   0   0   0]\n",
      " [  0   0   0   0   0   0   0  18 219 253 253 253 253 253 198 182 247 241\n",
      "    0   0   0   0   0   0   0   0   0   0]\n",
      " [  0   0   0   0   0   0   0   0  80 156 107 253 253 205  11   0  43 154\n",
      "    0   0   0   0   0   0   0   0   0   0]\n",
      " [  0   0   0   0   0   0   0   0   0  14   1 154 253  90   0   0   0   0\n",
      "    0   0   0   0   0   0   0   0   0   0]\n",
      " [  0   0   0   0   0   0   0   0   0   0   0 139 253 190   2   0   0   0\n",
      "    0   0   0   0   0   0   0   0   0   0]\n",
      " [  0   0   0   0   0   0   0   0   0   0   0  11 190 253  70   0   0   0\n",
      "    0   0   0   0   0   0   0   0   0   0]\n",
      " [  0   0   0   0   0   0   0   0   0   0   0   0  35 241 225 160 108   1\n",
      "    0   0   0   0   0   0   0   0   0   0]\n",
      " [  0   0   0   0   0   0   0   0   0   0   0   0   0  81 240 253 253 119\n",
      "   25   0   0   0   0   0   0   0   0   0]\n",
      " [  0   0   0   0   0   0   0   0   0   0   0   0   0   0  45 186 253 253\n",
      "  150  27   0   0   0   0   0   0   0   0]\n",
      " [  0   0   0   0   0   0   0   0   0   0   0   0   0   0   0  16  93 252\n",
      "  253 187   0   0   0   0   0   0   0   0]\n",
      " [  0   0   0   0   0   0   0   0   0   0   0   0   0   0   0   0   0 249\n",
      "  253 249  64   0   0   0   0   0   0   0]\n",
      " [  0   0   0   0   0   0   0   0   0   0   0   0   0   0  46 130 183 253\n",
      "  253 207   2   0   0   0   0   0   0   0]\n",
      " [  0   0   0   0   0   0   0   0   0   0   0   0  39 148 229 253 253 253\n",
      "  250 182   0   0   0   0   0   0   0   0]\n",
      " [  0   0   0   0   0   0   0   0   0   0  24 114 221 253 253 253 253 201\n",
      "   78   0   0   0   0   0   0   0   0   0]\n",
      " [  0   0   0   0   0   0   0   0  23  66 213 253 253 253 253 198  81   2\n",
      "    0   0   0   0   0   0   0   0   0   0]\n",
      " [  0   0   0   0   0   0  18 171 219 253 253 253 253 195  80   9   0   0\n",
      "    0   0   0   0   0   0   0   0   0   0]\n",
      " [  0   0   0   0  55 172 226 253 253 253 253 244 133  11   0   0   0   0\n",
      "    0   0   0   0   0   0   0   0   0   0]\n",
      " [  0   0   0   0 136 253 253 253 212 135 132  16   0   0   0   0   0   0\n",
      "    0   0   0   0   0   0   0   0   0   0]\n",
      " [  0   0   0   0   0   0   0   0   0   0   0   0   0   0   0   0   0   0\n",
      "    0   0   0   0   0   0   0   0   0   0]\n",
      " [  0   0   0   0   0   0   0   0   0   0   0   0   0   0   0   0   0   0\n",
      "    0   0   0   0   0   0   0   0   0   0]\n",
      " [  0   0   0   0   0   0   0   0   0   0   0   0   0   0   0   0   0   0\n",
      "    0   0   0   0   0   0   0   0   0   0]]\n"
     ]
    }
   ],
   "source": [
    "print(X_train.shape[0])  \n",
    "print(Y_train[0], X_train[0])"
   ]
  },
  {
   "cell_type": "code",
   "execution_count": 31,
   "metadata": {},
   "outputs": [],
   "source": [
    "X_train = X_train.reshape(X_train.shape[0],784) # 60000, 28, 28 => 60000, 784\n",
    "X_train.astype('float64')\n",
    "X_train = X_train/255   # 0~1사이의 값으로"
   ]
  },
  {
   "cell_type": "code",
   "execution_count": 32,
   "metadata": {},
   "outputs": [
    {
     "data": {
      "text/plain": [
       "(60000, 784)"
      ]
     },
     "execution_count": 32,
     "metadata": {},
     "output_type": "execute_result"
    }
   ],
   "source": [
    "X_train.shape"
   ]
  },
  {
   "cell_type": "code",
   "execution_count": 33,
   "metadata": {},
   "outputs": [],
   "source": [
    "X_test = X_test.reshape(X_test.shape[0],784)  # 60000, 28, 28 => 60000, 784\n",
    "X_test.astype('float64')\n",
    "X_test = X_test/255      # 0~1사이의 값으로"
   ]
  },
  {
   "cell_type": "code",
   "execution_count": 34,
   "metadata": {},
   "outputs": [
    {
     "name": "stdout",
     "output_type": "stream",
     "text": [
      "[5 0 4 1]\n"
     ]
    }
   ],
   "source": [
    "print(Y_train[0:4])"
   ]
  },
  {
   "cell_type": "code",
   "execution_count": 35,
   "metadata": {},
   "outputs": [],
   "source": [
    "Y_train = np_utils.to_categorical(Y_train, 10)\n",
    "Y_test = np_utils.to_categorical(Y_test, 10)"
   ]
  },
  {
   "cell_type": "code",
   "execution_count": 36,
   "metadata": {},
   "outputs": [
    {
     "name": "stdout",
     "output_type": "stream",
     "text": [
      "[[0. 0. 0. 0. 0. 1. 0. 0. 0. 0.]\n",
      " [1. 0. 0. 0. 0. 0. 0. 0. 0. 0.]\n",
      " [0. 0. 0. 0. 1. 0. 0. 0. 0. 0.]\n",
      " [0. 1. 0. 0. 0. 0. 0. 0. 0. 0.]]\n"
     ]
    }
   ],
   "source": [
    "print(Y_train[0:4])"
   ]
  },
  {
   "cell_type": "markdown",
   "metadata": {},
   "source": [
    "### 딥러닝 프레임 만들기 - 인공신경망"
   ]
  },
  {
   "cell_type": "code",
   "execution_count": 37,
   "metadata": {},
   "outputs": [],
   "source": [
    "from keras.models import Sequential\n",
    "from keras.layers import Dense"
   ]
  },
  {
   "cell_type": "code",
   "execution_count": 38,
   "metadata": {},
   "outputs": [],
   "source": [
    "m = Sequential()"
   ]
  },
  {
   "cell_type": "code",
   "execution_count": 39,
   "metadata": {},
   "outputs": [],
   "source": [
    "m.add(Dense(512,input_dim=784, activation='relu'))\n",
    "m.add(Dense(10,activation='softmax'))    # softmax"
   ]
  },
  {
   "cell_type": "markdown",
   "metadata": {},
   "source": [
    "### 오차함수 :categorical_crossentropy, 최적화 함수 : adam"
   ]
  },
  {
   "cell_type": "code",
   "execution_count": 40,
   "metadata": {},
   "outputs": [],
   "source": [
    "m.compile(loss=\"categorical_crossentropy\", \n",
    "         optimizer='adam',\n",
    "         metrics=['accuracy'])"
   ]
  },
  {
   "cell_type": "markdown",
   "metadata": {},
   "source": [
    "## 세부 설정 및 모델 학습 저장"
   ]
  },
  {
   "cell_type": "markdown",
   "metadata": {},
   "source": [
    "* model 폴더가 존재하지 않는다면 폴더 생성\n",
    "* 모델 기록 파일"
   ]
  },
  {
   "cell_type": "code",
   "execution_count": 41,
   "metadata": {},
   "outputs": [],
   "source": [
    "import os\n",
    "from keras.callbacks import ModelCheckpoint, EarlyStopping\n",
    "MODEL_DIR = './model/' \n",
    "\n",
    "if not os.path.exists(MODEL_DIR):\n",
    "  os.mkdir(MODEL_DIR)\n",
    "\n",
    "modelpath = \"./model/{epoch:02d}-{val_loss:.4f}.hdf5\"\n",
    "checkpointer = ModelCheckpoint(filepath=modelpath, \n",
    "                               monitor='val_loss', \n",
    "                               verbose=1, save_best_only=True) \n",
    "\n",
    "#10회 이상 성능향상이 없다면 중단하라\n",
    "early_stopping_callback = EarlyStopping(monitor='val_loss', patience=10)"
   ]
  },
  {
   "cell_type": "markdown",
   "metadata": {},
   "source": [
    "### 알아두기\n",
    " * verbose = 0,1,2 : 아무것도 안함(0) progress bar를 보여준다(1), epoch 수를 보여준다(2)\n",
    " * validation_data : 평가용 데이터 이용\n",
    " * 배치 사이즈 : 200\n",
    " "
   ]
  },
  {
   "cell_type": "code",
   "execution_count": 42,
   "metadata": {},
   "outputs": [
    {
     "name": "stdout",
     "output_type": "stream",
     "text": [
      "Train on 60000 samples, validate on 10000 samples\n",
      "Epoch 1/30\n",
      " - 6s - loss: 0.2979 - accuracy: 0.9171 - val_loss: 0.1547 - val_accuracy: 0.9541\n",
      "\n",
      "Epoch 00001: val_loss improved from inf to 0.15474, saving model to ./model/01-0.1547.hdf5\n",
      "Epoch 2/30\n",
      " - 5s - loss: 0.1246 - accuracy: 0.9639 - val_loss: 0.1055 - val_accuracy: 0.9691\n",
      "\n",
      "Epoch 00002: val_loss improved from 0.15474 to 0.10545, saving model to ./model/02-0.1055.hdf5\n",
      "Epoch 3/30\n",
      " - 5s - loss: 0.0819 - accuracy: 0.9761 - val_loss: 0.0841 - val_accuracy: 0.9759\n",
      "\n",
      "Epoch 00003: val_loss improved from 0.10545 to 0.08408, saving model to ./model/03-0.0841.hdf5\n",
      "Epoch 4/30\n",
      " - 5s - loss: 0.0605 - accuracy: 0.9827 - val_loss: 0.0792 - val_accuracy: 0.9748\n",
      "\n",
      "Epoch 00004: val_loss improved from 0.08408 to 0.07925, saving model to ./model/04-0.0792.hdf5\n",
      "Epoch 5/30\n",
      " - 5s - loss: 0.0455 - accuracy: 0.9870 - val_loss: 0.0675 - val_accuracy: 0.9797\n",
      "\n",
      "Epoch 00005: val_loss improved from 0.07925 to 0.06746, saving model to ./model/05-0.0675.hdf5\n",
      "Epoch 6/30\n",
      " - 5s - loss: 0.0341 - accuracy: 0.9908 - val_loss: 0.0639 - val_accuracy: 0.9807\n",
      "\n",
      "Epoch 00006: val_loss improved from 0.06746 to 0.06388, saving model to ./model/06-0.0639.hdf5\n",
      "Epoch 7/30\n",
      " - 5s - loss: 0.0257 - accuracy: 0.9937 - val_loss: 0.0709 - val_accuracy: 0.9777\n",
      "\n",
      "Epoch 00007: val_loss did not improve from 0.06388\n",
      "Epoch 8/30\n",
      " - 5s - loss: 0.0210 - accuracy: 0.9945 - val_loss: 0.0633 - val_accuracy: 0.9796\n",
      "\n",
      "Epoch 00008: val_loss improved from 0.06388 to 0.06327, saving model to ./model/08-0.0633.hdf5\n",
      "Epoch 9/30\n",
      " - 6s - loss: 0.0160 - accuracy: 0.9962 - val_loss: 0.0585 - val_accuracy: 0.9820\n",
      "\n",
      "Epoch 00009: val_loss improved from 0.06327 to 0.05848, saving model to ./model/09-0.0585.hdf5\n",
      "Epoch 10/30\n",
      " - 5s - loss: 0.0117 - accuracy: 0.9977 - val_loss: 0.0639 - val_accuracy: 0.9810\n",
      "\n",
      "Epoch 00010: val_loss did not improve from 0.05848\n",
      "Epoch 11/30\n",
      " - 5s - loss: 0.0098 - accuracy: 0.9982 - val_loss: 0.0656 - val_accuracy: 0.9795\n",
      "\n",
      "Epoch 00011: val_loss did not improve from 0.05848\n",
      "Epoch 12/30\n",
      " - 5s - loss: 0.0073 - accuracy: 0.9990 - val_loss: 0.0647 - val_accuracy: 0.9811\n",
      "\n",
      "Epoch 00012: val_loss did not improve from 0.05848\n",
      "Epoch 13/30\n",
      " - 5s - loss: 0.0052 - accuracy: 0.9993 - val_loss: 0.0632 - val_accuracy: 0.9810\n",
      "\n",
      "Epoch 00013: val_loss did not improve from 0.05848\n",
      "Epoch 14/30\n",
      " - 5s - loss: 0.0042 - accuracy: 0.9997 - val_loss: 0.0650 - val_accuracy: 0.9811\n",
      "\n",
      "Epoch 00014: val_loss did not improve from 0.05848\n",
      "Epoch 15/30\n",
      " - 5s - loss: 0.0038 - accuracy: 0.9995 - val_loss: 0.0656 - val_accuracy: 0.9818\n",
      "\n",
      "Epoch 00015: val_loss did not improve from 0.05848\n",
      "Epoch 16/30\n",
      " - 5s - loss: 0.0038 - accuracy: 0.9995 - val_loss: 0.0672 - val_accuracy: 0.9811\n",
      "\n",
      "Epoch 00016: val_loss did not improve from 0.05848\n",
      "Epoch 17/30\n",
      " - 5s - loss: 0.0034 - accuracy: 0.9995 - val_loss: 0.0739 - val_accuracy: 0.9798\n",
      "\n",
      "Epoch 00017: val_loss did not improve from 0.05848\n",
      "Epoch 18/30\n",
      " - 5s - loss: 0.0089 - accuracy: 0.9976 - val_loss: 0.0829 - val_accuracy: 0.9801\n",
      "\n",
      "Epoch 00018: val_loss did not improve from 0.05848\n",
      "Epoch 19/30\n",
      " - 5s - loss: 0.0050 - accuracy: 0.9987 - val_loss: 0.0722 - val_accuracy: 0.9812\n",
      "\n",
      "Epoch 00019: val_loss did not improve from 0.05848\n"
     ]
    }
   ],
   "source": [
    "###샘플 200, 모두 30번 실행,\n",
    "hist = m.fit(X_train, Y_train, validation_data=(X_test, Y_test),\n",
    "                epochs=30,\n",
    "                batch_size=200,\n",
    "                verbose=2,  \n",
    "                callbacks=[early_stopping_callback, checkpointer])"
   ]
  },
  {
   "cell_type": "markdown",
   "metadata": {},
   "source": [
    "### 한 줄로 나의 모델 성능 평가가 가능하다."
   ]
  },
  {
   "cell_type": "code",
   "execution_count": 43,
   "metadata": {},
   "outputs": [
    {
     "name": "stdout",
     "output_type": "stream",
     "text": [
      "10000/10000 [==============================] - 1s 69us/step\n",
      "\n",
      "Accuracy: 0.9812\n"
     ]
    }
   ],
   "source": [
    "print('\\nAccuracy: {:.4f}'.format(m.evaluate(X_test, Y_test)[1]))"
   ]
  },
  {
   "cell_type": "markdown",
   "metadata": {},
   "source": [
    "### 새로운 데이터에 대한 예측 수행이 가능하다."
   ]
  },
  {
   "cell_type": "code",
   "execution_count": 44,
   "metadata": {},
   "outputs": [
    {
     "data": {
      "text/plain": [
       "array([4.6090833e-13, 5.3225222e-07, 9.9999952e-01, 6.3398813e-12,\n",
       "       7.5467857e-22, 6.7245983e-16, 6.2522665e-12, 1.2638970e-21,\n",
       "       3.8593187e-10, 4.2609935e-19], dtype=float32)"
      ]
     },
     "execution_count": 44,
     "metadata": {},
     "output_type": "execute_result"
    }
   ],
   "source": [
    "pred = m.predict(X_test)   # 0.000으로 표시되는 것이 있을까?\n",
    "pred[1]"
   ]
  },
  {
   "cell_type": "code",
   "execution_count": 45,
   "metadata": {},
   "outputs": [
    {
     "data": {
      "text/plain": [
       "2"
      ]
     },
     "execution_count": 45,
     "metadata": {},
     "output_type": "execute_result"
    }
   ],
   "source": [
    "pred[1].argmax()"
   ]
  },
  {
   "cell_type": "code",
   "execution_count": 48,
   "metadata": {},
   "outputs": [
    {
     "data": {
      "image/png": "[encoded data removed]",
      "text/plain": [
       "<Figure size 432x288 with 2 Axes>"
      ]
     },
     "metadata": {},
     "output_type": "display_data"
    }
   ],
   "source": [
    "%matplotlib inline\n",
    "import matplotlib.pyplot as plt\n",
    "\n",
    "fig, loss_ax = plt.subplots()\n",
    "\n",
    "acc_ax = loss_ax.twinx()\n",
    "\n",
    "loss_ax.plot(hist.history['loss'], 'y', label='train loss')\n",
    "loss_ax.plot(hist.history['val_loss'], 'r', label='val loss')\n",
    "\n",
    "acc_ax.plot(hist.history['accuracy'], 'b', label='train acc')\n",
    "acc_ax.plot(hist.history['val_accuracy'], 'g', label='val acc')\n",
    "\n",
    "loss_ax.set_xlabel('epoch')\n",
    "loss_ax.set_ylabel('loss')\n",
    "acc_ax.set_ylabel('accuray')\n",
    "\n",
    "loss_ax.legend(loc='upper left')\n",
    "acc_ax.legend(loc='lower left')\n",
    "\n",
    "plt.show()"
   ]
  },
  {
   "cell_type": "markdown",
   "metadata": {},
   "source": [
    "* train_loss(노란색) : 훈련 손실값이며 x축은 에포크 수, 좌측 y축은 손실값을 나타냅니다.\n",
    "* val_loss(빨간색) : 검증 손실값이며 x축은 에포크 수, 좌측 y축은 손실값을 나타냅니다.\n",
    "* train_acc(파란색) : 훈련 정확도이며 x축은 에포크 수, 우측 y축은 정확도를 나타냅니다.\n",
    "* val_acc(녹색) : 검증 정확도이며 x축은 에포크 수, 우측 y축은 정확도를 나타냅니다"
   ]
  },
  {
   "cell_type": "markdown",
   "metadata": {},
   "source": [
    "### REF\n",
    "* 신경망 :  https://www.youtube.com/watch?v=Ilg3gGewQ5U"
   ]
  }
 ],
 "metadata": {
  "kernelspec": {
   "display_name": "Python 3",
   "language": "python",
   "name": "python3"
  },
  "language_info": {
   "codemirror_mode": {
    "name": "ipython",
    "version": 3
   },
   "file_extension": ".py",
   "mimetype": "text/x-python",
   "name": "python",
   "nbconvert_exporter": "python",
   "pygments_lexer": "ipython3",
   "version": "3.6.5"
  }
 },
 "nbformat": 4,
 "nbformat_minor": 2
}
